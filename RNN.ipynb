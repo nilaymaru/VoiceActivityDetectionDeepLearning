{
 "cells": [
  {
   "cell_type": "code",
   "execution_count": 1,
   "id": "a3cac16a-aae9-4a73-8a19-9e496cda5a3b",
   "metadata": {},
   "outputs": [],
   "source": [
    "import numpy as np \n",
    "import pandas as pd \n",
    "import librosa\n",
    "import textgrids"
   ]
  },
  {
   "cell_type": "code",
   "execution_count": 3,
   "id": "48071dfe-791d-4ead-86bb-187e8c9ef58e",
   "metadata": {},
   "outputs": [],
   "source": [
    "FRAME_DURATION = 30\n",
    "OVERLAP_RATE = 0.0"
   ]
  },
  {
   "cell_type": "code",
   "execution_count": 5,
   "id": "095e754f-d2bd-47f1-a239-f519b8d4c160",
   "metadata": {},
   "outputs": [],
   "source": [
    "def readFile(path):\n",
    "    '''\n",
    "    Read the file and return the list of SPEECH/NONSPEECH labels for each frame\n",
    "    '''\n",
    "\n",
    "    labeled_list  = []\n",
    "    grid = textgrids.TextGrid(path)\n",
    "\n",
    "    for interval in grid['silences']:\n",
    "        label = int(interval.text)\n",
    "\n",
    "        dur = interval.dur\n",
    "        dur_msec = dur * 1000 # sec -> msec\n",
    "        num_frames = int(round(dur_msec /30)) # the audio is divided into 30 msec frames\n",
    "        for i in range(num_frames):\n",
    "\n",
    "            labeled_list.append(label)\n",
    "\n",
    "    return labeled_list"
   ]
  },
  {
   "cell_type": "code",
   "execution_count": 7,
   "id": "269af092-fe06-4d07-932e-e31c4c7cd226",
   "metadata": {},
   "outputs": [
    {
     "data": {
      "text/html": [
       "<div>\n",
       "<style scoped>\n",
       "    .dataframe tbody tr th:only-of-type {\n",
       "        vertical-align: middle;\n",
       "    }\n",
       "\n",
       "    .dataframe tbody tr th {\n",
       "        vertical-align: top;\n",
       "    }\n",
       "\n",
       "    .dataframe thead th {\n",
       "        text-align: right;\n",
       "    }\n",
       "</style>\n",
       "<table border=\"1\" class=\"dataframe\">\n",
       "  <thead>\n",
       "    <tr style=\"text-align: right;\">\n",
       "      <th></th>\n",
       "      <th>mfcc1</th>\n",
       "      <th>mfcc2</th>\n",
       "      <th>mfcc3</th>\n",
       "      <th>mfcc4</th>\n",
       "      <th>mfcc5</th>\n",
       "      <th>mfcc6</th>\n",
       "      <th>mfcc7</th>\n",
       "      <th>mfcc8</th>\n",
       "      <th>mfcc9</th>\n",
       "      <th>mfcc10</th>\n",
       "      <th>mfcc11</th>\n",
       "      <th>mfcc12</th>\n",
       "      <th>zcr</th>\n",
       "      <th>rms</th>\n",
       "      <th>labels</th>\n",
       "    </tr>\n",
       "  </thead>\n",
       "  <tbody>\n",
       "  </tbody>\n",
       "</table>\n",
       "</div>"
      ],
      "text/plain": [
       "Empty DataFrame\n",
       "Columns: [mfcc1, mfcc2, mfcc3, mfcc4, mfcc5, mfcc6, mfcc7, mfcc8, mfcc9, mfcc10, mfcc11, mfcc12, zcr, rms, labels]\n",
       "Index: []"
      ]
     },
     "execution_count": 7,
     "metadata": {},
     "output_type": "execute_result"
    }
   ],
   "source": [
    "column_names = [f'mfcc{i+1}' for i in range(12)]\n",
    "column_names.extend(['zcr','rms','labels'])\n",
    "df = pd.DataFrame(columns = column_names)\n",
    "df"
   ]
  },
  {
   "cell_type": "code",
   "execution_count": 9,
   "id": "54d36ed9-dc92-4e9d-845e-16c1e34d6d3e",
   "metadata": {},
   "outputs": [],
   "source": [
    "def addData(df, audio_path, annotation_path):\n",
    "    data, fs = librosa.load(audio_path)\n",
    "    label_list = readFile(annotation_path)\n",
    "    label = np.array(label_list)\n",
    "    Ns = len(data)  \n",
    "    Ts = 1 / fs  \n",
    "    t = np.arange(Ns) * 1000 * Ts  \n",
    "    shift = 1 - OVERLAP_RATE\n",
    "    frame_length = int(np.floor(FRAME_DURATION * fs / 1000))\n",
    "    frame_shift = round(frame_length * shift)\n",
    "    zcr = librosa.feature.zero_crossing_rate(y=data, frame_length=frame_length, hop_length=frame_shift)\n",
    "    rms_energy = librosa.feature.rms(y=data, frame_length=frame_length, hop_length=frame_shift)\n",
    "    mfccs = librosa.feature.mfcc(y=data, n_mfcc=12, hop_length=frame_shift, n_fft=frame_length)\n",
    "    mfccs = mfccs.T\n",
    "    zcr = zcr.T\n",
    "    rms = rms_energy.T\n",
    "    mini = label.shape[0]\n",
    "    mini = min(mini,mfccs.shape[0])\n",
    "    mini = min(mini,rms.shape[0])\n",
    "    mini = min(mini,zcr.shape[0])\n",
    "    combined_array = np.hstack((mfccs, zcr, rms))\n",
    "    combined_array = combined_array[:mini]\n",
    "    label = label[:mini]\n",
    "    label = label.reshape(mini,1)\n",
    "    d = np.hstack((combined_array,label))\n",
    "    new_df = pd.DataFrame(d, columns = column_names)\n",
    "    df = pd.concat([df, new_df], ignore_index=True)\n",
    "    return new_df"
   ]
  },
  {
   "cell_type": "code",
   "execution_count": 69,
   "id": "9985acb4-33ab-4c56-823a-c81df9df6569",
   "metadata": {},
   "outputs": [
    {
     "name": "stdout",
     "output_type": "stream",
     "text": [
      "Audio: Data/Data/Audio/Noizeus/Car\\sp01_car_sn5.wav\n",
      "Annotation: Data/Data/Annotation/Noizeus/Car\\sp01_car_sn5.TextGrid\n",
      "Audio: Data/Data/Audio/Noizeus/Car\\sp02_car_sn5.wav\n",
      "Annotation: Data/Data/Annotation/Noizeus/Car\\sp02_car_sn5.TextGrid\n",
      "Audio: Data/Data/Audio/Noizeus/Car\\sp03_car_sn5.wav\n",
      "Annotation: Data/Data/Annotation/Noizeus/Car\\sp03_car_sn5.TextGrid\n",
      "Audio: Data/Data/Audio/Noizeus/Car\\sp04_car_sn5.wav\n",
      "Annotation: Data/Data/Annotation/Noizeus/Car\\sp04_car_sn5.TextGrid\n",
      "Audio: Data/Data/Audio/Noizeus/Car\\sp05_car_sn5.wav\n",
      "Annotation: Data/Data/Annotation/Noizeus/Car\\sp05_car_sn5.TextGrid\n",
      "Audio: Data/Data/Audio/Noizeus/Car\\sp06_car_sn5.wav\n",
      "Annotation: Data/Data/Annotation/Noizeus/Car\\sp06_car_sn5.TextGrid\n",
      "Audio: Data/Data/Audio/Noizeus/Car\\sp07_car_sn5.wav\n",
      "Annotation: Data/Data/Annotation/Noizeus/Car\\sp07_car_sn5.TextGrid\n",
      "Audio: Data/Data/Audio/Noizeus/Car\\sp08_car_sn5.wav\n",
      "Annotation: Data/Data/Annotation/Noizeus/Car\\sp08_car_sn5.TextGrid\n",
      "Audio: Data/Data/Audio/Noizeus/Car\\sp09_car_sn5.wav\n",
      "Annotation: Data/Data/Annotation/Noizeus/Car\\sp09_car_sn5.TextGrid\n",
      "Audio: Data/Data/Audio/Noizeus/Car\\sp10_car_sn5.wav\n",
      "Annotation: Data/Data/Annotation/Noizeus/Car\\sp10_car_sn5.TextGrid\n",
      "Audio: Data/Data/Audio/Noizeus/Car\\sp11_car_sn5.wav\n",
      "Annotation: Data/Data/Annotation/Noizeus/Car\\sp11_car_sn5.TextGrid\n",
      "Audio: Data/Data/Audio/Noizeus/Car\\sp12_car_sn5.wav\n",
      "Annotation: Data/Data/Annotation/Noizeus/Car\\sp12_car_sn5.TextGrid\n",
      "Audio: Data/Data/Audio/Noizeus/Car\\sp13_car_sn5.wav\n",
      "Annotation: Data/Data/Annotation/Noizeus/Car\\sp13_car_sn5.TextGrid\n",
      "Audio: Data/Data/Audio/Noizeus/Car\\sp14_car_sn5.wav\n",
      "Annotation: Data/Data/Annotation/Noizeus/Car\\sp14_car_sn5.TextGrid\n"
     ]
    },
    {
     "name": "stderr",
     "output_type": "stream",
     "text": [
      "C:\\Users\\nilay\\AppData\\Local\\Temp\\ipykernel_12064\\3795589420.py:27: FutureWarning: The behavior of DataFrame concatenation with empty or all-NA entries is deprecated. In a future version, this will no longer exclude empty or all-NA columns when determining the result dtypes. To retain the old behavior, exclude the relevant entries before the concat operation.\n",
      "  df = pd.concat([df, new_df], ignore_index=True)\n",
      "C:\\Users\\nilay\\AppData\\Local\\Temp\\ipykernel_12064\\3757801250.py:30: FutureWarning: The behavior of DataFrame concatenation with empty or all-NA entries is deprecated. In a future version, this will no longer exclude empty or all-NA columns when determining the result dtypes. To retain the old behavior, exclude the relevant entries before the concat operation.\n",
      "  df = pd.concat([df, temp], ignore_index=True)\n"
     ]
    },
    {
     "name": "stdout",
     "output_type": "stream",
     "text": [
      "Audio: Data/Data/Audio/Noizeus/Car\\sp15_car_sn5.wav\n",
      "Annotation: Data/Data/Annotation/Noizeus/Car\\sp15_car_sn5.TextGrid\n",
      "Audio: Data/Data/Audio/Noizeus/Car\\sp16_car_sn5.wav\n",
      "Annotation: Data/Data/Annotation/Noizeus/Car\\sp16_car_sn5.TextGrid\n",
      "Audio: Data/Data/Audio/Noizeus/Car\\sp17_car_sn5.wav\n",
      "Annotation: Data/Data/Annotation/Noizeus/Car\\sp17_car_sn5.TextGrid\n",
      "Audio: Data/Data/Audio/Noizeus/Car\\sp18_car_sn5.wav\n",
      "Annotation: Data/Data/Annotation/Noizeus/Car\\sp18_car_sn5.TextGrid\n",
      "Audio: Data/Data/Audio/Noizeus/Car\\sp19_car_sn5.wav\n",
      "Annotation: Data/Data/Annotation/Noizeus/Car\\sp19_car_sn5.TextGrid\n",
      "Audio: Data/Data/Audio/Noizeus/Car\\sp20_car_sn5.wav\n",
      "Annotation: Data/Data/Annotation/Noizeus/Car\\sp20_car_sn5.TextGrid\n",
      "Audio: Data/Data/Audio/Noizeus/Car\\sp21_car_sn5.wav\n",
      "Annotation: Data/Data/Annotation/Noizeus/Car\\sp21_car_sn5.TextGrid\n",
      "Audio: Data/Data/Audio/Noizeus/Car\\sp22_car_sn5.wav\n",
      "Annotation: Data/Data/Annotation/Noizeus/Car\\sp22_car_sn5.TextGrid\n",
      "Audio: Data/Data/Audio/Noizeus/Car\\sp23_car_sn5.wav\n",
      "Annotation: Data/Data/Annotation/Noizeus/Car\\sp23_car_sn5.TextGrid\n",
      "Audio: Data/Data/Audio/Noizeus/Car\\sp24_car_sn5.wav\n",
      "Annotation: Data/Data/Annotation/Noizeus/Car\\sp24_car_sn5.TextGrid\n",
      "Audio: Data/Data/Audio/Noizeus/Car\\sp25_car_sn5.wav\n",
      "Annotation: Data/Data/Annotation/Noizeus/Car\\sp25_car_sn5.TextGrid\n",
      "Audio: Data/Data/Audio/Noizeus/Car\\sp26_car_sn5.wav\n",
      "Annotation: Data/Data/Annotation/Noizeus/Car\\sp26_car_sn5.TextGrid\n",
      "Audio: Data/Data/Audio/Noizeus/Car\\sp27_car_sn5.wav\n",
      "Annotation: Data/Data/Annotation/Noizeus/Car\\sp27_car_sn5.TextGrid\n",
      "Audio: Data/Data/Audio/Noizeus/Car\\sp28_car_sn5.wav\n",
      "Annotation: Data/Data/Annotation/Noizeus/Car\\sp28_car_sn5.TextGrid\n",
      "Audio: Data/Data/Audio/Noizeus/Car\\sp29_car_sn5.wav\n",
      "Annotation: Data/Data/Annotation/Noizeus/Car\\sp29_car_sn5.TextGrid\n",
      "Audio: Data/Data/Audio/Noizeus/Car\\sp30_car_sn5.wav\n",
      "Annotation: Data/Data/Annotation/Noizeus/Car\\sp30_car_sn5.TextGrid\n"
     ]
    }
   ],
   "source": [
    "import os\n",
    "\n",
    "\n",
    "audio_directory = \"Data/Data/Audio/Noizeus/Car\"\n",
    "annotation_directory = \"Data/Data/Annotation/Noizeus/Car\"\n",
    "column_names = [f'mfcc{i+1}' for i in range(12)]\n",
    "column_names.extend(['zcr','rms','labels'])\n",
    "df = pd.DataFrame(columns = column_names)\n",
    "\n",
    "audio_files = sorted([f for f in os.listdir(audio_directory) if f.endswith(('.mp3', '.wav', '.flac', '.aac', '.ogg', '.m4a'))])\n",
    "annotation_files = sorted([f for f in os.listdir(annotation_directory) if f.endswith('.TextGrid')])  # Assume annotations are .txt files\n",
    "\n",
    "\n",
    "for audio_file in audio_files:\n",
    "\n",
    "    base_name = os.path.splitext(audio_file)[0]\n",
    "    \n",
    "\n",
    "    annotation_file = f\"{base_name}.TextGrid\"  \n",
    "\n",
    "    # Construct full paths\n",
    "    audio_path = os.path.join(audio_directory, audio_file)\n",
    "    annotation_path = os.path.join(annotation_directory, annotation_file)\n",
    "\n",
    "    # Check if the annotation file exists\n",
    "    if os.path.exists(annotation_path):\n",
    "        print(f\"Audio: {audio_path}\")\n",
    "        print(f\"Annotation: {annotation_path}\")\n",
    "        temp = addData(df,audio_path,annotation_path)\n",
    "        df = pd.concat([df, temp], ignore_index=True)\n",
    "    else:\n",
    "        print(f\"Warning: No annotation file found for {audio_file_path}\")"
   ]
  },
  {
   "cell_type": "code",
   "execution_count": 70,
   "id": "d10fcdd9-8807-49ee-84e3-1e3debb6e083",
   "metadata": {},
   "outputs": [],
   "source": [
    "dfna = df.dropna()\n",
    "y = dfna['labels']\n",
    "X = dfna.drop(columns = ['labels'])"
   ]
  },
  {
   "cell_type": "code",
   "execution_count": 71,
   "id": "811cfc86-15cc-439d-bdfc-4a34d5570ed2",
   "metadata": {},
   "outputs": [
    {
     "data": {
      "text/plain": [
       "(2668, 14)"
      ]
     },
     "execution_count": 71,
     "metadata": {},
     "output_type": "execute_result"
    }
   ],
   "source": [
    "Xr = np.array(X)\n",
    "Xr.shape"
   ]
  },
  {
   "cell_type": "code",
   "execution_count": 75,
   "id": "9a504012-be59-4f8e-84e2-7001bf7034bb",
   "metadata": {},
   "outputs": [],
   "source": [
    "from sklearn.model_selection import train_test_split\n",
    "\n",
    "X_train, X_test, y_train, y_test = train_test_split(Xr, y, test_size=0.2, random_state=42)"
   ]
  },
  {
   "cell_type": "code",
   "execution_count": 77,
   "id": "94f2007f-e313-483b-b97d-133c573b2582",
   "metadata": {},
   "outputs": [
    {
     "name": "stdout",
     "output_type": "stream",
     "text": [
      "Epoch 1/50\n"
     ]
    },
    {
     "name": "stderr",
     "output_type": "stream",
     "text": [
      "D:\\Acads\\Semester 9\\Thesis\\Code\\vad\\lib\\site-packages\\keras\\src\\layers\\rnn\\rnn.py:204: UserWarning: Do not pass an `input_shape`/`input_dim` argument to a layer. When using Sequential models, prefer using an `Input(shape)` object as the first layer in the model instead.\n",
      "  super().__init__(**kwargs)\n"
     ]
    },
    {
     "name": "stdout",
     "output_type": "stream",
     "text": [
      "\u001b[1m54/54\u001b[0m \u001b[32m━━━━━━━━━━━━━━━━━━━━\u001b[0m\u001b[37m\u001b[0m \u001b[1m3s\u001b[0m 14ms/step - accuracy: 0.4024 - loss: 2.9973 - val_accuracy: 0.4005 - val_loss: 1.3976\n",
      "Epoch 2/50\n",
      "\u001b[1m54/54\u001b[0m \u001b[32m━━━━━━━━━━━━━━━━━━━━\u001b[0m\u001b[37m\u001b[0m \u001b[1m1s\u001b[0m 9ms/step - accuracy: 0.4267 - loss: 1.1129 - val_accuracy: 0.6089 - val_loss: 0.6754\n",
      "Epoch 3/50\n",
      "\u001b[1m54/54\u001b[0m \u001b[32m━━━━━━━━━━━━━━━━━━━━\u001b[0m\u001b[37m\u001b[0m \u001b[1m1s\u001b[0m 9ms/step - accuracy: 0.6430 - loss: 0.6348 - val_accuracy: 0.6323 - val_loss: 0.5956\n",
      "Epoch 4/50\n",
      "\u001b[1m54/54\u001b[0m \u001b[32m━━━━━━━━━━━━━━━━━━━━\u001b[0m\u001b[37m\u001b[0m \u001b[1m1s\u001b[0m 9ms/step - accuracy: 0.6262 - loss: 0.5880 - val_accuracy: 0.6393 - val_loss: 0.5818\n",
      "Epoch 5/50\n",
      "\u001b[1m54/54\u001b[0m \u001b[32m━━━━━━━━━━━━━━━━━━━━\u001b[0m\u001b[37m\u001b[0m \u001b[1m1s\u001b[0m 9ms/step - accuracy: 0.6473 - loss: 0.5609 - val_accuracy: 0.6511 - val_loss: 0.5704\n",
      "Epoch 6/50\n",
      "\u001b[1m54/54\u001b[0m \u001b[32m━━━━━━━━━━━━━━━━━━━━\u001b[0m\u001b[37m\u001b[0m \u001b[1m0s\u001b[0m 9ms/step - accuracy: 0.6765 - loss: 0.5514 - val_accuracy: 0.6792 - val_loss: 0.5592\n",
      "Epoch 7/50\n",
      "\u001b[1m54/54\u001b[0m \u001b[32m━━━━━━━━━━━━━━━━━━━━\u001b[0m\u001b[37m\u001b[0m \u001b[1m1s\u001b[0m 9ms/step - accuracy: 0.6903 - loss: 0.5473 - val_accuracy: 0.7073 - val_loss: 0.5482\n",
      "Epoch 8/50\n",
      "\u001b[1m54/54\u001b[0m \u001b[32m━━━━━━━━━━━━━━━━━━━━\u001b[0m\u001b[37m\u001b[0m \u001b[1m0s\u001b[0m 9ms/step - accuracy: 0.7046 - loss: 0.5372 - val_accuracy: 0.7237 - val_loss: 0.5372\n",
      "Epoch 9/50\n",
      "\u001b[1m54/54\u001b[0m \u001b[32m━━━━━━━━━━━━━━━━━━━━\u001b[0m\u001b[37m\u001b[0m \u001b[1m0s\u001b[0m 8ms/step - accuracy: 0.7417 - loss: 0.5136 - val_accuracy: 0.7400 - val_loss: 0.5265\n",
      "Epoch 10/50\n",
      "\u001b[1m54/54\u001b[0m \u001b[32m━━━━━━━━━━━━━━━━━━━━\u001b[0m\u001b[37m\u001b[0m \u001b[1m0s\u001b[0m 9ms/step - accuracy: 0.7285 - loss: 0.5167 - val_accuracy: 0.7471 - val_loss: 0.5163\n",
      "Epoch 11/50\n",
      "\u001b[1m54/54\u001b[0m \u001b[32m━━━━━━━━━━━━━━━━━━━━\u001b[0m\u001b[37m\u001b[0m \u001b[1m0s\u001b[0m 8ms/step - accuracy: 0.7539 - loss: 0.4977 - val_accuracy: 0.7635 - val_loss: 0.5069\n",
      "Epoch 12/50\n",
      "\u001b[1m54/54\u001b[0m \u001b[32m━━━━━━━━━━━━━━━━━━━━\u001b[0m\u001b[37m\u001b[0m \u001b[1m1s\u001b[0m 9ms/step - accuracy: 0.7689 - loss: 0.4817 - val_accuracy: 0.7541 - val_loss: 0.4975\n",
      "Epoch 13/50\n",
      "\u001b[1m54/54\u001b[0m \u001b[32m━━━━━━━━━━━━━━━━━━━━\u001b[0m\u001b[37m\u001b[0m \u001b[1m0s\u001b[0m 9ms/step - accuracy: 0.7600 - loss: 0.4971 - val_accuracy: 0.7611 - val_loss: 0.4892\n",
      "Epoch 14/50\n",
      "\u001b[1m54/54\u001b[0m \u001b[32m━━━━━━━━━━━━━━━━━━━━\u001b[0m\u001b[37m\u001b[0m \u001b[1m0s\u001b[0m 9ms/step - accuracy: 0.7880 - loss: 0.4589 - val_accuracy: 0.7799 - val_loss: 0.4838\n",
      "Epoch 15/50\n",
      "\u001b[1m54/54\u001b[0m \u001b[32m━━━━━━━━━━━━━━━━━━━━\u001b[0m\u001b[37m\u001b[0m \u001b[1m1s\u001b[0m 9ms/step - accuracy: 0.7676 - loss: 0.4692 - val_accuracy: 0.7752 - val_loss: 0.4791\n",
      "Epoch 16/50\n",
      "\u001b[1m54/54\u001b[0m \u001b[32m━━━━━━━━━━━━━━━━━━━━\u001b[0m\u001b[37m\u001b[0m \u001b[1m1s\u001b[0m 9ms/step - accuracy: 0.7618 - loss: 0.4723 - val_accuracy: 0.7799 - val_loss: 0.4705\n",
      "Epoch 17/50\n",
      "\u001b[1m54/54\u001b[0m \u001b[32m━━━━━━━━━━━━━━━━━━━━\u001b[0m\u001b[37m\u001b[0m \u001b[1m1s\u001b[0m 9ms/step - accuracy: 0.7755 - loss: 0.4758 - val_accuracy: 0.7845 - val_loss: 0.4651\n",
      "Epoch 18/50\n",
      "\u001b[1m54/54\u001b[0m \u001b[32m━━━━━━━━━━━━━━━━━━━━\u001b[0m\u001b[37m\u001b[0m \u001b[1m1s\u001b[0m 9ms/step - accuracy: 0.7963 - loss: 0.4390 - val_accuracy: 0.7775 - val_loss: 0.4597\n",
      "Epoch 19/50\n",
      "\u001b[1m54/54\u001b[0m \u001b[32m━━━━━━━━━━━━━━━━━━━━\u001b[0m\u001b[37m\u001b[0m \u001b[1m1s\u001b[0m 9ms/step - accuracy: 0.7861 - loss: 0.4637 - val_accuracy: 0.7822 - val_loss: 0.4553\n",
      "Epoch 20/50\n",
      "\u001b[1m54/54\u001b[0m \u001b[32m━━━━━━━━━━━━━━━━━━━━\u001b[0m\u001b[37m\u001b[0m \u001b[1m1s\u001b[0m 9ms/step - accuracy: 0.7897 - loss: 0.4536 - val_accuracy: 0.7939 - val_loss: 0.4510\n",
      "Epoch 21/50\n",
      "\u001b[1m54/54\u001b[0m \u001b[32m━━━━━━━━━━━━━━━━━━━━\u001b[0m\u001b[37m\u001b[0m \u001b[1m1s\u001b[0m 9ms/step - accuracy: 0.8102 - loss: 0.4389 - val_accuracy: 0.8033 - val_loss: 0.4499\n",
      "Epoch 22/50\n",
      "\u001b[1m54/54\u001b[0m \u001b[32m━━━━━━━━━━━━━━━━━━━━\u001b[0m\u001b[37m\u001b[0m \u001b[1m0s\u001b[0m 9ms/step - accuracy: 0.7975 - loss: 0.4518 - val_accuracy: 0.8056 - val_loss: 0.4463\n",
      "Epoch 23/50\n",
      "\u001b[1m54/54\u001b[0m \u001b[32m━━━━━━━━━━━━━━━━━━━━\u001b[0m\u001b[37m\u001b[0m \u001b[1m1s\u001b[0m 9ms/step - accuracy: 0.7972 - loss: 0.4458 - val_accuracy: 0.7986 - val_loss: 0.4437\n",
      "Epoch 24/50\n",
      "\u001b[1m54/54\u001b[0m \u001b[32m━━━━━━━━━━━━━━━━━━━━\u001b[0m\u001b[37m\u001b[0m \u001b[1m1s\u001b[0m 9ms/step - accuracy: 0.7997 - loss: 0.4390 - val_accuracy: 0.7986 - val_loss: 0.4485\n",
      "Epoch 25/50\n",
      "\u001b[1m54/54\u001b[0m \u001b[32m━━━━━━━━━━━━━━━━━━━━\u001b[0m\u001b[37m\u001b[0m \u001b[1m1s\u001b[0m 9ms/step - accuracy: 0.7890 - loss: 0.4579 - val_accuracy: 0.7963 - val_loss: 0.4480\n",
      "Epoch 26/50\n",
      "\u001b[1m54/54\u001b[0m \u001b[32m━━━━━━━━━━━━━━━━━━━━\u001b[0m\u001b[37m\u001b[0m \u001b[1m1s\u001b[0m 9ms/step - accuracy: 0.8003 - loss: 0.4514 - val_accuracy: 0.8173 - val_loss: 0.4406\n",
      "Epoch 27/50\n",
      "\u001b[1m54/54\u001b[0m \u001b[32m━━━━━━━━━━━━━━━━━━━━\u001b[0m\u001b[37m\u001b[0m \u001b[1m1s\u001b[0m 9ms/step - accuracy: 0.8208 - loss: 0.4352 - val_accuracy: 0.8103 - val_loss: 0.4387\n",
      "Epoch 28/50\n",
      "\u001b[1m54/54\u001b[0m \u001b[32m━━━━━━━━━━━━━━━━━━━━\u001b[0m\u001b[37m\u001b[0m \u001b[1m1s\u001b[0m 9ms/step - accuracy: 0.8130 - loss: 0.4445 - val_accuracy: 0.8103 - val_loss: 0.4410\n",
      "Epoch 29/50\n",
      "\u001b[1m54/54\u001b[0m \u001b[32m━━━━━━━━━━━━━━━━━━━━\u001b[0m\u001b[37m\u001b[0m \u001b[1m1s\u001b[0m 9ms/step - accuracy: 0.7996 - loss: 0.4431 - val_accuracy: 0.8126 - val_loss: 0.4350\n",
      "Epoch 30/50\n",
      "\u001b[1m54/54\u001b[0m \u001b[32m━━━━━━━━━━━━━━━━━━━━\u001b[0m\u001b[37m\u001b[0m \u001b[1m1s\u001b[0m 9ms/step - accuracy: 0.7946 - loss: 0.4297 - val_accuracy: 0.8197 - val_loss: 0.4373\n",
      "Epoch 31/50\n",
      "\u001b[1m54/54\u001b[0m \u001b[32m━━━━━━━━━━━━━━━━━━━━\u001b[0m\u001b[37m\u001b[0m \u001b[1m1s\u001b[0m 9ms/step - accuracy: 0.8094 - loss: 0.4379 - val_accuracy: 0.8126 - val_loss: 0.4350\n",
      "Epoch 32/50\n",
      "\u001b[1m54/54\u001b[0m \u001b[32m━━━━━━━━━━━━━━━━━━━━\u001b[0m\u001b[37m\u001b[0m \u001b[1m1s\u001b[0m 9ms/step - accuracy: 0.7990 - loss: 0.4302 - val_accuracy: 0.8197 - val_loss: 0.4335\n",
      "Epoch 33/50\n",
      "\u001b[1m54/54\u001b[0m \u001b[32m━━━━━━━━━━━━━━━━━━━━\u001b[0m\u001b[37m\u001b[0m \u001b[1m0s\u001b[0m 9ms/step - accuracy: 0.8028 - loss: 0.4438 - val_accuracy: 0.8080 - val_loss: 0.4330\n",
      "Epoch 34/50\n",
      "\u001b[1m54/54\u001b[0m \u001b[32m━━━━━━━━━━━━━━━━━━━━\u001b[0m\u001b[37m\u001b[0m \u001b[1m1s\u001b[0m 9ms/step - accuracy: 0.8161 - loss: 0.4300 - val_accuracy: 0.8220 - val_loss: 0.4326\n",
      "Epoch 35/50\n",
      "\u001b[1m54/54\u001b[0m \u001b[32m━━━━━━━━━━━━━━━━━━━━\u001b[0m\u001b[37m\u001b[0m \u001b[1m0s\u001b[0m 9ms/step - accuracy: 0.7884 - loss: 0.4284 - val_accuracy: 0.8126 - val_loss: 0.4312\n",
      "Epoch 36/50\n",
      "\u001b[1m54/54\u001b[0m \u001b[32m━━━━━━━━━━━━━━━━━━━━\u001b[0m\u001b[37m\u001b[0m \u001b[1m1s\u001b[0m 9ms/step - accuracy: 0.7981 - loss: 0.4504 - val_accuracy: 0.8103 - val_loss: 0.4317\n",
      "Epoch 37/50\n",
      "\u001b[1m54/54\u001b[0m \u001b[32m━━━━━━━━━━━━━━━━━━━━\u001b[0m\u001b[37m\u001b[0m \u001b[1m0s\u001b[0m 9ms/step - accuracy: 0.8022 - loss: 0.4321 - val_accuracy: 0.8173 - val_loss: 0.4328\n",
      "Epoch 38/50\n",
      "\u001b[1m54/54\u001b[0m \u001b[32m━━━━━━━━━━━━━━━━━━━━\u001b[0m\u001b[37m\u001b[0m \u001b[1m1s\u001b[0m 9ms/step - accuracy: 0.8313 - loss: 0.3980 - val_accuracy: 0.8126 - val_loss: 0.4300\n",
      "Epoch 39/50\n",
      "\u001b[1m54/54\u001b[0m \u001b[32m━━━━━━━━━━━━━━━━━━━━\u001b[0m\u001b[37m\u001b[0m \u001b[1m1s\u001b[0m 9ms/step - accuracy: 0.8091 - loss: 0.4282 - val_accuracy: 0.8150 - val_loss: 0.4337\n",
      "Epoch 40/50\n",
      "\u001b[1m54/54\u001b[0m \u001b[32m━━━━━━━━━━━━━━━━━━━━\u001b[0m\u001b[37m\u001b[0m \u001b[1m1s\u001b[0m 9ms/step - accuracy: 0.8128 - loss: 0.4238 - val_accuracy: 0.8126 - val_loss: 0.4295\n",
      "Epoch 41/50\n",
      "\u001b[1m54/54\u001b[0m \u001b[32m━━━━━━━━━━━━━━━━━━━━\u001b[0m\u001b[37m\u001b[0m \u001b[1m1s\u001b[0m 9ms/step - accuracy: 0.8193 - loss: 0.4266 - val_accuracy: 0.8173 - val_loss: 0.4279\n",
      "Epoch 42/50\n",
      "\u001b[1m54/54\u001b[0m \u001b[32m━━━━━━━━━━━━━━━━━━━━\u001b[0m\u001b[37m\u001b[0m \u001b[1m1s\u001b[0m 9ms/step - accuracy: 0.7987 - loss: 0.4409 - val_accuracy: 0.8033 - val_loss: 0.4362\n",
      "Epoch 43/50\n",
      "\u001b[1m54/54\u001b[0m \u001b[32m━━━━━━━━━━━━━━━━━━━━\u001b[0m\u001b[37m\u001b[0m \u001b[1m0s\u001b[0m 9ms/step - accuracy: 0.7954 - loss: 0.4268 - val_accuracy: 0.8197 - val_loss: 0.4290\n",
      "Epoch 44/50\n",
      "\u001b[1m54/54\u001b[0m \u001b[32m━━━━━━━━━━━━━━━━━━━━\u001b[0m\u001b[37m\u001b[0m \u001b[1m1s\u001b[0m 9ms/step - accuracy: 0.8310 - loss: 0.4154 - val_accuracy: 0.8220 - val_loss: 0.4284\n",
      "Epoch 45/50\n",
      "\u001b[1m54/54\u001b[0m \u001b[32m━━━━━━━━━━━━━━━━━━━━\u001b[0m\u001b[37m\u001b[0m \u001b[1m1s\u001b[0m 9ms/step - accuracy: 0.7999 - loss: 0.4389 - val_accuracy: 0.8197 - val_loss: 0.4271\n",
      "Epoch 46/50\n",
      "\u001b[1m54/54\u001b[0m \u001b[32m━━━━━━━━━━━━━━━━━━━━\u001b[0m\u001b[37m\u001b[0m \u001b[1m1s\u001b[0m 9ms/step - accuracy: 0.8202 - loss: 0.4268 - val_accuracy: 0.8197 - val_loss: 0.4283\n",
      "Epoch 47/50\n",
      "\u001b[1m54/54\u001b[0m \u001b[32m━━━━━━━━━━━━━━━━━━━━\u001b[0m\u001b[37m\u001b[0m \u001b[1m0s\u001b[0m 9ms/step - accuracy: 0.8158 - loss: 0.4083 - val_accuracy: 0.8220 - val_loss: 0.4265\n",
      "Epoch 48/50\n",
      "\u001b[1m54/54\u001b[0m \u001b[32m━━━━━━━━━━━━━━━━━━━━\u001b[0m\u001b[37m\u001b[0m \u001b[1m1s\u001b[0m 9ms/step - accuracy: 0.8198 - loss: 0.4307 - val_accuracy: 0.8197 - val_loss: 0.4273\n",
      "Epoch 49/50\n",
      "\u001b[1m54/54\u001b[0m \u001b[32m━━━━━━━━━━━━━━━━━━━━\u001b[0m\u001b[37m\u001b[0m \u001b[1m0s\u001b[0m 9ms/step - accuracy: 0.8075 - loss: 0.4304 - val_accuracy: 0.7892 - val_loss: 0.4397\n",
      "Epoch 50/50\n",
      "\u001b[1m54/54\u001b[0m \u001b[32m━━━━━━━━━━━━━━━━━━━━\u001b[0m\u001b[37m\u001b[0m \u001b[1m0s\u001b[0m 9ms/step - accuracy: 0.8058 - loss: 0.4497 - val_accuracy: 0.8197 - val_loss: 0.4261\n",
      "\u001b[1m17/17\u001b[0m \u001b[32m━━━━━━━━━━━━━━━━━━━━\u001b[0m\u001b[37m\u001b[0m \u001b[1m0s\u001b[0m 4ms/step - accuracy: 0.8101 - loss: 0.4416\n",
      "Test Accuracy: 0.8109\n",
      "\u001b[1m17/17\u001b[0m \u001b[32m━━━━━━━━━━━━━━━━━━━━\u001b[0m\u001b[37m\u001b[0m \u001b[1m1s\u001b[0m 14ms/step\n",
      "Test Accuracy (using accuracy_score): 0.8109\n"
     ]
    },
    {
     "data": {
      "image/png": "[encoded data removed]",
      "text/plain": [
       "<Figure size 1200x400 with 2 Axes>"
      ]
     },
     "metadata": {},
     "output_type": "display_data"
    }
   ],
   "source": [
    "import tensorflow as tf\n",
    "from tensorflow.keras.models import Sequential\n",
    "from tensorflow.keras.layers import LSTM, Dense\n",
    "from sklearn.model_selection import train_test_split\n",
    "from sklearn.metrics import accuracy_score\n",
    "import matplotlib.pyplot as plt\n",
    "\n",
    "lstm = Sequential()\n",
    "lstm.add(LSTM(128, activation='relu', input_shape=(X_train.shape[1], 1)))  # LSTM layer with 32 units\n",
    "lstm.add(Dense(1, activation='sigmoid'))  # Fully connected layer for binary classification\n",
    "opt = tf.keras.optimizers.Adam(\n",
    "    learning_rate=0.00001,\n",
    "    epsilon=1e-07,\n",
    "    name='adam'\n",
    ")\n",
    "# Compile the model\n",
    "lstm.compile(optimizer=opt, loss='binary_crossentropy', metrics=['accuracy'])\n",
    "\n",
    "# Train the model\n",
    "history = lstm.fit(X_train, y_train, epochs=50, validation_split=0.2, verbose=1)\n",
    "\n",
    "# Evaluate the model on the test set\n",
    "test_loss, test_accuracy = lstm.evaluate(X_test, y_test, verbose=1)\n",
    "print(f\"Test Accuracy: {test_accuracy:.4f}\")\n",
    "\n",
    "# Predict on the test set\n",
    "y_pred = (lstm.predict(X_test) > 0.5).astype(\"int32\")\n",
    "\n",
    "# Calculate accuracy on test set\n",
    "accuracy = accuracy_score(y_test, y_pred)\n",
    "print(f\"Test Accuracy (using accuracy_score): {accuracy:.4f}\")\n",
    "\n",
    "# Plotting training history\n",
    "plt.figure(figsize=(12, 4))\n",
    "\n",
    "# Plot accuracy\n",
    "plt.subplot(1, 2, 1)\n",
    "plt.plot(history.history['accuracy'], label='Training Accuracy')\n",
    "plt.plot(history.history['val_accuracy'], label='Validation Accuracy')\n",
    "plt.title('Model Accuracy')\n",
    "plt.xlabel('Epoch')\n",
    "plt.ylabel('Accuracy')\n",
    "plt.legend(loc='lower right')\n",
    "\n",
    "# Plot loss\n",
    "plt.subplot(1, 2, 2)\n",
    "plt.plot(history.history['loss'], label='Training Loss')\n",
    "plt.plot(history.history['val_loss'], label='Validation Loss')\n",
    "plt.title('Model Loss')\n",
    "plt.xlabel('Epoch')\n",
    "plt.ylabel('Loss')\n",
    "plt.legend(loc='upper right')\n",
    "\n",
    "plt.tight_layout()\n",
    "plt.show()"
   ]
  },
  {
   "cell_type": "code",
   "execution_count": 78,
   "id": "43b18ec7-8c46-4ef8-87e3-343830e44a0d",
   "metadata": {},
   "outputs": [
    {
     "name": "stdout",
     "output_type": "stream",
     "text": [
      "\u001b[1m17/17\u001b[0m \u001b[32m━━━━━━━━━━━━━━━━━━━━\u001b[0m\u001b[37m\u001b[0m \u001b[1m0s\u001b[0m 4ms/step\n",
      "Accuracy: 0.8108614232209738\n",
      "Precision: 0.8107796344313198\n",
      "FAR: 0.2170212765957447\n",
      "FRR: 0.16722408026755853\n"
     ]
    },
    {
     "data": {
      "image/png": "[encoded data removed]",
      "text/plain": [
       "<Figure size 640x480 with 2 Axes>"
      ]
     },
     "metadata": {},
     "output_type": "display_data"
    }
   ],
   "source": [
    "import pandas as pd\n",
    "from sklearn.model_selection import train_test_split\n",
    "from sklearn.linear_model import LogisticRegression\n",
    "from sklearn.metrics import accuracy_score, precision_score, recall_score, f1_score, confusion_matrix, ConfusionMatrixDisplay\n",
    "import matplotlib.pyplot as plt\n",
    "y_pred = (lstm.predict(X_test) > 0.5).astype(\"int32\")\n",
    "\n",
    "# Calculate evaluation metrics\n",
    "accuracy = accuracy_score(y_test, y_pred)\n",
    "precision = precision_score(y_test, y_pred, average='weighted')  # weighted for multiclass\n",
    "recall = recall_score(y_test, y_pred, average='weighted')\n",
    "f1 = f1_score(y_test, y_pred, average='weighted')\n",
    "cm = confusion_matrix(y_test, y_pred)\n",
    "far = cm[0][1]/(cm[0][0]+cm[0][1])\n",
    "frr = cm[1][0]/(cm[1][0]+cm[1][1])\n",
    "print(f\"Accuracy: {accuracy}\")\n",
    "print(f\"Precision: {precision}\")\n",
    "print(f\"FAR: {far}\")\n",
    "print(f\"FRR: {frr}\")\n",
    "\n",
    "disp = ConfusionMatrixDisplay(confusion_matrix=cm)\n",
    "disp.plot(cmap=plt.cm.Blues)\n",
    "plt.title(\"Confusion Matrix LSTM\")\n",
    "plt.show()"
   ]
  },
  {
   "cell_type": "code",
   "execution_count": null,
   "id": "718d1237-39d6-4fb5-bc00-c9cc4b0732b3",
   "metadata": {},
   "outputs": [],
   "source": []
  },
  {
   "cell_type": "code",
   "execution_count": null,
   "id": "7a76b3c9-5ab9-4368-8109-9c5523574248",
   "metadata": {},
   "outputs": [],
   "source": []
  },
  {
   "cell_type": "code",
   "execution_count": null,
   "id": "66ca29bc-25d1-4576-9f32-14f07b77c8ee",
   "metadata": {},
   "outputs": [],
   "source": []
  }
 ],
 "metadata": {
  "kernelspec": {
   "display_name": "vad",
   "language": "python",
   "name": "vad"
  },
  "language_info": {
   "codemirror_mode": {
    "name": "ipython",
    "version": 3
   },
   "file_extension": ".py",
   "mimetype": "text/x-python",
   "name": "python",
   "nbconvert_exporter": "python",
   "pygments_lexer": "ipython3",
   "version": "3.10.5"
  }
 },
 "nbformat": 4,
 "nbformat_minor": 5
}
