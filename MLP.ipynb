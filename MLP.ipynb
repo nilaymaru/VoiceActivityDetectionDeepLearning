{
 "cells": [
  {
   "cell_type": "code",
   "execution_count": 1,
   "id": "788e72d4-b037-4bab-85d7-74107b1b956c",
   "metadata": {},
   "outputs": [],
   "source": [
    "import numpy as np \n",
    "import pandas as pd \n",
    "import librosa\n",
    "import textgrids"
   ]
  },
  {
   "cell_type": "code",
   "execution_count": 540,
   "id": "3b0fbec0-1d88-455d-9247-58d2fe10267a",
   "metadata": {},
   "outputs": [],
   "source": [
    "FRAME_DURATION = 30\n",
    "OVERLAP_RATE = 0.0"
   ]
  },
  {
   "cell_type": "code",
   "execution_count": 542,
   "id": "4c2f41d9-987e-4032-a0d9-f8a8a3968df0",
   "metadata": {},
   "outputs": [],
   "source": [
    "def readFile(path):\n",
    "    '''\n",
    "    Read the file and return the list of SPEECH/NONSPEECH labels for each frame\n",
    "    '''\n",
    "\n",
    "    labeled_list  = []\n",
    "    grid = textgrids.TextGrid(path)\n",
    "\n",
    "    for interval in grid['silences']:\n",
    "        label = int(interval.text)\n",
    "\n",
    "        dur = interval.dur\n",
    "        dur_msec = dur * 1000 # sec -> msec\n",
    "        num_frames = int(round(dur_msec /30)) # the audio is divided into 30 msec frames\n",
    "        for i in range(num_frames):\n",
    "\n",
    "            labeled_list.append(label)\n",
    "\n",
    "    return labeled_list"
   ]
  },
  {
   "cell_type": "code",
   "execution_count": 544,
   "id": "17738200-1c2a-43e8-8248-f54281245a1c",
   "metadata": {},
   "outputs": [
    {
     "data": {
      "text/html": [
       "<div>\n",
       "<style scoped>\n",
       "    .dataframe tbody tr th:only-of-type {\n",
       "        vertical-align: middle;\n",
       "    }\n",
       "\n",
       "    .dataframe tbody tr th {\n",
       "        vertical-align: top;\n",
       "    }\n",
       "\n",
       "    .dataframe thead th {\n",
       "        text-align: right;\n",
       "    }\n",
       "</style>\n",
       "<table border=\"1\" class=\"dataframe\">\n",
       "  <thead>\n",
       "    <tr style=\"text-align: right;\">\n",
       "      <th></th>\n",
       "      <th>mfcc1</th>\n",
       "      <th>mfcc2</th>\n",
       "      <th>mfcc3</th>\n",
       "      <th>mfcc4</th>\n",
       "      <th>mfcc5</th>\n",
       "      <th>mfcc6</th>\n",
       "      <th>mfcc7</th>\n",
       "      <th>mfcc8</th>\n",
       "      <th>mfcc9</th>\n",
       "      <th>mfcc10</th>\n",
       "      <th>mfcc11</th>\n",
       "      <th>mfcc12</th>\n",
       "      <th>zcr</th>\n",
       "      <th>rms</th>\n",
       "      <th>labels</th>\n",
       "    </tr>\n",
       "  </thead>\n",
       "  <tbody>\n",
       "  </tbody>\n",
       "</table>\n",
       "</div>"
      ],
      "text/plain": [
       "Empty DataFrame\n",
       "Columns: [mfcc1, mfcc2, mfcc3, mfcc4, mfcc5, mfcc6, mfcc7, mfcc8, mfcc9, mfcc10, mfcc11, mfcc12, zcr, rms, labels]\n",
       "Index: []"
      ]
     },
     "execution_count": 544,
     "metadata": {},
     "output_type": "execute_result"
    }
   ],
   "source": [
    "column_names = [f'mfcc{i+1}' for i in range(12)]\n",
    "column_names.extend(['zcr','rms','labels'])\n",
    "df = pd.DataFrame(columns = column_names)\n",
    "df"
   ]
  },
  {
   "cell_type": "code",
   "execution_count": 546,
   "id": "2dd5e29c-54ea-479c-adda-2de8f5dab965",
   "metadata": {},
   "outputs": [],
   "source": [
    "def addData(df, audio_path, annotation_path):\n",
    "    data, fs = librosa.load(audio_path)\n",
    "    label_list = readFile(annotation_path)\n",
    "    label = np.array(label_list)\n",
    "    Ns = len(data)  \n",
    "    Ts = 1 / fs  \n",
    "    t = np.arange(Ns) * 1000 * Ts  \n",
    "    shift = 1 - OVERLAP_RATE\n",
    "    frame_length = int(np.floor(FRAME_DURATION * fs / 1000))\n",
    "    frame_shift = round(frame_length * shift)\n",
    "    zcr = librosa.feature.zero_crossing_rate(y=data, frame_length=frame_length, hop_length=frame_shift)\n",
    "    rms_energy = librosa.feature.rms(y=data, frame_length=frame_length, hop_length=frame_shift)\n",
    "    mfccs = librosa.feature.mfcc(y=data, n_mfcc=12, hop_length=frame_shift, n_fft=frame_length)\n",
    "    mfccs = mfccs.T\n",
    "    zcr = zcr.T\n",
    "    rms = rms_energy.T\n",
    "    mini = label.shape[0]\n",
    "    mini = min(mini,mfccs.shape[0])\n",
    "    mini = min(mini,rms.shape[0])\n",
    "    mini = min(mini,zcr.shape[0])\n",
    "    combined_array = np.hstack((mfccs, zcr, rms))\n",
    "    combined_array = combined_array[:mini]\n",
    "    label = label[:mini]\n",
    "    label = label.reshape(mini,1)\n",
    "    d = np.hstack((combined_array,label))\n",
    "    new_df = pd.DataFrame(d, columns = column_names)\n",
    "    df = pd.concat([df, new_df], ignore_index=True)\n",
    "    return new_df"
   ]
  },
  {
   "cell_type": "code",
   "execution_count": 568,
   "id": "dda4e0ed-7fce-4a21-87b5-b0a8c0529e73",
   "metadata": {},
   "outputs": [
    {
     "name": "stdout",
     "output_type": "stream",
     "text": [
      "Audio: Data/Data/Audio/Noizeus/Car\\sp01_car_sn5.wav\n",
      "Annotation: Data/Data/Annotation/Noizeus/Car\\sp01_car_sn5.TextGrid\n",
      "Audio: Data/Data/Audio/Noizeus/Car\\sp02_car_sn5.wav\n",
      "Annotation: Data/Data/Annotation/Noizeus/Car\\sp02_car_sn5.TextGrid\n",
      "Audio: Data/Data/Audio/Noizeus/Car\\sp03_car_sn5.wav\n",
      "Annotation: Data/Data/Annotation/Noizeus/Car\\sp03_car_sn5.TextGrid\n",
      "Audio: Data/Data/Audio/Noizeus/Car\\sp04_car_sn5.wav\n",
      "Annotation: Data/Data/Annotation/Noizeus/Car\\sp04_car_sn5.TextGrid\n",
      "Audio: Data/Data/Audio/Noizeus/Car\\sp05_car_sn5.wav\n",
      "Annotation: Data/Data/Annotation/Noizeus/Car\\sp05_car_sn5.TextGrid\n",
      "Audio: Data/Data/Audio/Noizeus/Car\\sp06_car_sn5.wav\n",
      "Annotation: Data/Data/Annotation/Noizeus/Car\\sp06_car_sn5.TextGrid\n"
     ]
    },
    {
     "name": "stderr",
     "output_type": "stream",
     "text": [
      "C:\\Users\\nilay\\AppData\\Local\\Temp\\ipykernel_16076\\3795589420.py:27: FutureWarning: The behavior of DataFrame concatenation with empty or all-NA entries is deprecated. In a future version, this will no longer exclude empty or all-NA columns when determining the result dtypes. To retain the old behavior, exclude the relevant entries before the concat operation.\n",
      "  df = pd.concat([df, new_df], ignore_index=True)\n",
      "C:\\Users\\nilay\\AppData\\Local\\Temp\\ipykernel_16076\\3757801250.py:30: FutureWarning: The behavior of DataFrame concatenation with empty or all-NA entries is deprecated. In a future version, this will no longer exclude empty or all-NA columns when determining the result dtypes. To retain the old behavior, exclude the relevant entries before the concat operation.\n",
      "  df = pd.concat([df, temp], ignore_index=True)\n"
     ]
    },
    {
     "name": "stdout",
     "output_type": "stream",
     "text": [
      "Audio: Data/Data/Audio/Noizeus/Car\\sp07_car_sn5.wav\n",
      "Annotation: Data/Data/Annotation/Noizeus/Car\\sp07_car_sn5.TextGrid\n",
      "Audio: Data/Data/Audio/Noizeus/Car\\sp08_car_sn5.wav\n",
      "Annotation: Data/Data/Annotation/Noizeus/Car\\sp08_car_sn5.TextGrid\n",
      "Audio: Data/Data/Audio/Noizeus/Car\\sp09_car_sn5.wav\n",
      "Annotation: Data/Data/Annotation/Noizeus/Car\\sp09_car_sn5.TextGrid\n",
      "Audio: Data/Data/Audio/Noizeus/Car\\sp10_car_sn5.wav\n",
      "Annotation: Data/Data/Annotation/Noizeus/Car\\sp10_car_sn5.TextGrid\n",
      "Audio: Data/Data/Audio/Noizeus/Car\\sp11_car_sn5.wav\n",
      "Annotation: Data/Data/Annotation/Noizeus/Car\\sp11_car_sn5.TextGrid\n",
      "Audio: Data/Data/Audio/Noizeus/Car\\sp12_car_sn5.wav\n",
      "Annotation: Data/Data/Annotation/Noizeus/Car\\sp12_car_sn5.TextGrid\n",
      "Audio: Data/Data/Audio/Noizeus/Car\\sp13_car_sn5.wav\n",
      "Annotation: Data/Data/Annotation/Noizeus/Car\\sp13_car_sn5.TextGrid\n",
      "Audio: Data/Data/Audio/Noizeus/Car\\sp14_car_sn5.wav\n",
      "Annotation: Data/Data/Annotation/Noizeus/Car\\sp14_car_sn5.TextGrid\n",
      "Audio: Data/Data/Audio/Noizeus/Car\\sp15_car_sn5.wav\n",
      "Annotation: Data/Data/Annotation/Noizeus/Car\\sp15_car_sn5.TextGrid\n",
      "Audio: Data/Data/Audio/Noizeus/Car\\sp16_car_sn5.wav\n",
      "Annotation: Data/Data/Annotation/Noizeus/Car\\sp16_car_sn5.TextGrid\n",
      "Audio: Data/Data/Audio/Noizeus/Car\\sp17_car_sn5.wav\n",
      "Annotation: Data/Data/Annotation/Noizeus/Car\\sp17_car_sn5.TextGrid\n",
      "Audio: Data/Data/Audio/Noizeus/Car\\sp18_car_sn5.wav\n",
      "Annotation: Data/Data/Annotation/Noizeus/Car\\sp18_car_sn5.TextGrid\n",
      "Audio: Data/Data/Audio/Noizeus/Car\\sp19_car_sn5.wav\n",
      "Annotation: Data/Data/Annotation/Noizeus/Car\\sp19_car_sn5.TextGrid\n",
      "Audio: Data/Data/Audio/Noizeus/Car\\sp20_car_sn5.wav\n",
      "Annotation: Data/Data/Annotation/Noizeus/Car\\sp20_car_sn5.TextGrid\n",
      "Audio: Data/Data/Audio/Noizeus/Car\\sp21_car_sn5.wav\n",
      "Annotation: Data/Data/Annotation/Noizeus/Car\\sp21_car_sn5.TextGrid\n",
      "Audio: Data/Data/Audio/Noizeus/Car\\sp22_car_sn5.wav\n",
      "Annotation: Data/Data/Annotation/Noizeus/Car\\sp22_car_sn5.TextGrid\n",
      "Audio: Data/Data/Audio/Noizeus/Car\\sp23_car_sn5.wav\n",
      "Annotation: Data/Data/Annotation/Noizeus/Car\\sp23_car_sn5.TextGrid\n",
      "Audio: Data/Data/Audio/Noizeus/Car\\sp24_car_sn5.wav\n",
      "Annotation: Data/Data/Annotation/Noizeus/Car\\sp24_car_sn5.TextGrid\n",
      "Audio: Data/Data/Audio/Noizeus/Car\\sp25_car_sn5.wav\n",
      "Annotation: Data/Data/Annotation/Noizeus/Car\\sp25_car_sn5.TextGrid\n",
      "Audio: Data/Data/Audio/Noizeus/Car\\sp26_car_sn5.wav\n",
      "Annotation: Data/Data/Annotation/Noizeus/Car\\sp26_car_sn5.TextGrid\n",
      "Audio: Data/Data/Audio/Noizeus/Car\\sp27_car_sn5.wav\n",
      "Annotation: Data/Data/Annotation/Noizeus/Car\\sp27_car_sn5.TextGrid\n",
      "Audio: Data/Data/Audio/Noizeus/Car\\sp28_car_sn5.wav\n",
      "Annotation: Data/Data/Annotation/Noizeus/Car\\sp28_car_sn5.TextGrid\n",
      "Audio: Data/Data/Audio/Noizeus/Car\\sp29_car_sn5.wav\n",
      "Annotation: Data/Data/Annotation/Noizeus/Car\\sp29_car_sn5.TextGrid\n",
      "Audio: Data/Data/Audio/Noizeus/Car\\sp30_car_sn5.wav\n",
      "Annotation: Data/Data/Annotation/Noizeus/Car\\sp30_car_sn5.TextGrid\n"
     ]
    }
   ],
   "source": [
    "import os\n",
    "\n",
    "\n",
    "audio_directory = \"Data/Data/Audio/Noizeus/Car\"\n",
    "annotation_directory = \"Data/Data/Annotation/Noizeus/Car\"\n",
    "column_names = [f'mfcc{i+1}' for i in range(12)]\n",
    "column_names.extend(['zcr','rms','labels'])\n",
    "df = pd.DataFrame(columns = column_names)\n",
    "\n",
    "audio_files = sorted([f for f in os.listdir(audio_directory) if f.endswith(('.mp3', '.wav', '.flac', '.aac', '.ogg', '.m4a'))])\n",
    "annotation_files = sorted([f for f in os.listdir(annotation_directory) if f.endswith('.TextGrid')])  # Assume annotations are .txt files\n",
    "\n",
    "\n",
    "for audio_file in audio_files:\n",
    "\n",
    "    base_name = os.path.splitext(audio_file)[0]\n",
    "    \n",
    "\n",
    "    annotation_file = f\"{base_name}.TextGrid\"  \n",
    "\n",
    "    # Construct full paths\n",
    "    audio_path = os.path.join(audio_directory, audio_file)\n",
    "    annotation_path = os.path.join(annotation_directory, annotation_file)\n",
    "\n",
    "    # Check if the annotation file exists\n",
    "    if os.path.exists(annotation_path):\n",
    "        print(f\"Audio: {audio_path}\")\n",
    "        print(f\"Annotation: {annotation_path}\")\n",
    "        temp = addData(df,audio_path,annotation_path)\n",
    "        df = pd.concat([df, temp], ignore_index=True)\n",
    "    else:\n",
    "        print(f\"Warning: No annotation file found for {audio_file_path}\")"
   ]
  },
  {
   "cell_type": "code",
   "execution_count": 569,
   "id": "3b69136c-a54a-4567-973d-0d96dabf0f14",
   "metadata": {},
   "outputs": [],
   "source": [
    "dfna = df.dropna()\n",
    "y = dfna['labels']\n",
    "X = dfna.drop(columns = ['labels'])"
   ]
  },
  {
   "cell_type": "code",
   "execution_count": 570,
   "id": "0ec560f5-4f23-4382-8b24-114047ce147b",
   "metadata": {},
   "outputs": [],
   "source": [
    "from sklearn.model_selection import train_test_split\n",
    "X_train, X_test, y_train, y_test = train_test_split(X, y, test_size=0.2, random_state=42)"
   ]
  },
  {
   "cell_type": "code",
   "execution_count": 571,
   "id": "1d27cbfe-cd7a-4455-94b9-fdb3d351c383",
   "metadata": {},
   "outputs": [],
   "source": [
    "from sklearn.preprocessing import StandardScaler\n",
    "scaler = StandardScaler()\n",
    "X_train = scaler.fit_transform(X_train)\n",
    "X_test = scaler.transform(X_test)"
   ]
  },
  {
   "cell_type": "code",
   "execution_count": 572,
   "id": "736fff4c-6abd-4eba-bda6-3dac7f8f2f86",
   "metadata": {},
   "outputs": [
    {
     "name": "stderr",
     "output_type": "stream",
     "text": [
      "D:\\Acads\\Semester 9\\Thesis\\Code\\vad\\lib\\site-packages\\keras\\src\\layers\\core\\dense.py:87: UserWarning: Do not pass an `input_shape`/`input_dim` argument to a layer. When using Sequential models, prefer using an `Input(shape)` object as the first layer in the model instead.\n",
      "  super().__init__(activity_regularizer=activity_regularizer, **kwargs)\n"
     ]
    },
    {
     "data": {
      "text/html": [
       "<pre style=\"white-space:pre;overflow-x:auto;line-height:normal;font-family:Menlo,'DejaVu Sans Mono',consolas,'Courier New',monospace\"><span style=\"font-weight: bold\">Model: \"sequential_32\"</span>\n",
       "</pre>\n"
      ],
      "text/plain": [
       "\u001b[1mModel: \"sequential_32\"\u001b[0m\n"
      ]
     },
     "metadata": {},
     "output_type": "display_data"
    },
    {
     "data": {
      "text/html": [
       "<pre style=\"white-space:pre;overflow-x:auto;line-height:normal;font-family:Menlo,'DejaVu Sans Mono',consolas,'Courier New',monospace\">┏━━━━━━━━━━━━━━━━━━━━━━━━━━━━━━━━━━━━━━┳━━━━━━━━━━━━━━━━━━━━━━━━━━━━━┳━━━━━━━━━━━━━━━━━┓\n",
       "┃<span style=\"font-weight: bold\"> Layer (type)                         </span>┃<span style=\"font-weight: bold\"> Output Shape                </span>┃<span style=\"font-weight: bold\">         Param # </span>┃\n",
       "┡━━━━━━━━━━━━━━━━━━━━━━━━━━━━━━━━━━━━━━╇━━━━━━━━━━━━━━━━━━━━━━━━━━━━━╇━━━━━━━━━━━━━━━━━┩\n",
       "│ dense_97 (<span style=\"color: #0087ff; text-decoration-color: #0087ff\">Dense</span>)                     │ (<span style=\"color: #00d7ff; text-decoration-color: #00d7ff\">None</span>, <span style=\"color: #00af00; text-decoration-color: #00af00\">150</span>)                 │           <span style=\"color: #00af00; text-decoration-color: #00af00\">2,250</span> │\n",
       "├──────────────────────────────────────┼─────────────────────────────┼─────────────────┤\n",
       "│ dense_98 (<span style=\"color: #0087ff; text-decoration-color: #0087ff\">Dense</span>)                     │ (<span style=\"color: #00d7ff; text-decoration-color: #00d7ff\">None</span>, <span style=\"color: #00af00; text-decoration-color: #00af00\">50</span>)                  │           <span style=\"color: #00af00; text-decoration-color: #00af00\">7,550</span> │\n",
       "├──────────────────────────────────────┼─────────────────────────────┼─────────────────┤\n",
       "│ dense_99 (<span style=\"color: #0087ff; text-decoration-color: #0087ff\">Dense</span>)                     │ (<span style=\"color: #00d7ff; text-decoration-color: #00d7ff\">None</span>, <span style=\"color: #00af00; text-decoration-color: #00af00\">1</span>)                   │              <span style=\"color: #00af00; text-decoration-color: #00af00\">51</span> │\n",
       "└──────────────────────────────────────┴─────────────────────────────┴─────────────────┘\n",
       "</pre>\n"
      ],
      "text/plain": [
       "┏━━━━━━━━━━━━━━━━━━━━━━━━━━━━━━━━━━━━━━┳━━━━━━━━━━━━━━━━━━━━━━━━━━━━━┳━━━━━━━━━━━━━━━━━┓\n",
       "┃\u001b[1m \u001b[0m\u001b[1mLayer (type)                        \u001b[0m\u001b[1m \u001b[0m┃\u001b[1m \u001b[0m\u001b[1mOutput Shape               \u001b[0m\u001b[1m \u001b[0m┃\u001b[1m \u001b[0m\u001b[1m        Param #\u001b[0m\u001b[1m \u001b[0m┃\n",
       "┡━━━━━━━━━━━━━━━━━━━━━━━━━━━━━━━━━━━━━━╇━━━━━━━━━━━━━━━━━━━━━━━━━━━━━╇━━━━━━━━━━━━━━━━━┩\n",
       "│ dense_97 (\u001b[38;5;33mDense\u001b[0m)                     │ (\u001b[38;5;45mNone\u001b[0m, \u001b[38;5;34m150\u001b[0m)                 │           \u001b[38;5;34m2,250\u001b[0m │\n",
       "├──────────────────────────────────────┼─────────────────────────────┼─────────────────┤\n",
       "│ dense_98 (\u001b[38;5;33mDense\u001b[0m)                     │ (\u001b[38;5;45mNone\u001b[0m, \u001b[38;5;34m50\u001b[0m)                  │           \u001b[38;5;34m7,550\u001b[0m │\n",
       "├──────────────────────────────────────┼─────────────────────────────┼─────────────────┤\n",
       "│ dense_99 (\u001b[38;5;33mDense\u001b[0m)                     │ (\u001b[38;5;45mNone\u001b[0m, \u001b[38;5;34m1\u001b[0m)                   │              \u001b[38;5;34m51\u001b[0m │\n",
       "└──────────────────────────────────────┴─────────────────────────────┴─────────────────┘\n"
      ]
     },
     "metadata": {},
     "output_type": "display_data"
    },
    {
     "data": {
      "text/html": [
       "<pre style=\"white-space:pre;overflow-x:auto;line-height:normal;font-family:Menlo,'DejaVu Sans Mono',consolas,'Courier New',monospace\"><span style=\"font-weight: bold\"> Total params: </span><span style=\"color: #00af00; text-decoration-color: #00af00\">9,851</span> (38.48 KB)\n",
       "</pre>\n"
      ],
      "text/plain": [
       "\u001b[1m Total params: \u001b[0m\u001b[38;5;34m9,851\u001b[0m (38.48 KB)\n"
      ]
     },
     "metadata": {},
     "output_type": "display_data"
    },
    {
     "data": {
      "text/html": [
       "<pre style=\"white-space:pre;overflow-x:auto;line-height:normal;font-family:Menlo,'DejaVu Sans Mono',consolas,'Courier New',monospace\"><span style=\"font-weight: bold\"> Trainable params: </span><span style=\"color: #00af00; text-decoration-color: #00af00\">9,851</span> (38.48 KB)\n",
       "</pre>\n"
      ],
      "text/plain": [
       "\u001b[1m Trainable params: \u001b[0m\u001b[38;5;34m9,851\u001b[0m (38.48 KB)\n"
      ]
     },
     "metadata": {},
     "output_type": "display_data"
    },
    {
     "data": {
      "text/html": [
       "<pre style=\"white-space:pre;overflow-x:auto;line-height:normal;font-family:Menlo,'DejaVu Sans Mono',consolas,'Courier New',monospace\"><span style=\"font-weight: bold\"> Non-trainable params: </span><span style=\"color: #00af00; text-decoration-color: #00af00\">0</span> (0.00 B)\n",
       "</pre>\n"
      ],
      "text/plain": [
       "\u001b[1m Non-trainable params: \u001b[0m\u001b[38;5;34m0\u001b[0m (0.00 B)\n"
      ]
     },
     "metadata": {},
     "output_type": "display_data"
    }
   ],
   "source": [
    "import tensorflow as tf\n",
    "from tensorflow.keras.models import Sequential\n",
    "from tensorflow.keras.layers import Dense, Dropout\n",
    "\n",
    "# Set random seed for reproducibility (optional)\n",
    "np.random.seed(42)\n",
    "tf.random.set_seed(42)\n",
    "\n",
    "# Define the MLP model\n",
    "model = Sequential()\n",
    "\n",
    "# Input layer with 15 dimensions\n",
    "# First hidden layer with 8 nodes, ReLU activation, and dropout\n",
    "model.add(Dense(150, activation='relu', input_shape=(X.shape[1],)))\n",
    "# Second hidden layer with 4 nodes, ReLU activation, and dropout\n",
    "model.add(Dense(50, activation='relu'))\n",
    "\n",
    "# Output layer with a single node and sigmoid activation\n",
    "model.add(Dense(1, activation='sigmoid'))\n",
    "opt = tf.keras.optimizers.Adam(\n",
    "    learning_rate=0.00001,\n",
    "    epsilon=1e-07,\n",
    "    name='adam'\n",
    ")\n",
    "# Compile the model\n",
    "model.compile(optimizer=opt, loss='binary_crossentropy', metrics=['accuracy'])\n",
    "\n",
    "# Summary of the model\n",
    "model.summary()"
   ]
  },
  {
   "cell_type": "code",
   "execution_count": 573,
   "id": "1525f73f-36fa-47ef-a66c-fafdc9afa7fd",
   "metadata": {},
   "outputs": [
    {
     "name": "stdout",
     "output_type": "stream",
     "text": [
      "Epoch 1/90\n",
      "\u001b[1m54/54\u001b[0m \u001b[32m━━━━━━━━━━━━━━━━━━━━\u001b[0m\u001b[37m\u001b[0m \u001b[1m2s\u001b[0m 7ms/step - accuracy: 0.4101 - loss: 0.7378 - val_accuracy: 0.4309 - val_loss: 0.7270\n",
      "Epoch 2/90\n",
      "\u001b[1m54/54\u001b[0m \u001b[32m━━━━━━━━━━━━━━━━━━━━\u001b[0m\u001b[37m\u001b[0m \u001b[1m0s\u001b[0m 3ms/step - accuracy: 0.4389 - loss: 0.7249 - val_accuracy: 0.4637 - val_loss: 0.7158\n",
      "Epoch 3/90\n",
      "\u001b[1m54/54\u001b[0m \u001b[32m━━━━━━━━━━━━━━━━━━━━\u001b[0m\u001b[37m\u001b[0m \u001b[1m0s\u001b[0m 3ms/step - accuracy: 0.4708 - loss: 0.7124 - val_accuracy: 0.4871 - val_loss: 0.7049\n",
      "Epoch 4/90\n",
      "\u001b[1m54/54\u001b[0m \u001b[32m━━━━━━━━━━━━━━━━━━━━\u001b[0m\u001b[37m\u001b[0m \u001b[1m0s\u001b[0m 3ms/step - accuracy: 0.5091 - loss: 0.7002 - val_accuracy: 0.5152 - val_loss: 0.6944\n",
      "Epoch 5/90\n",
      "\u001b[1m54/54\u001b[0m \u001b[32m━━━━━━━━━━━━━━━━━━━━\u001b[0m\u001b[37m\u001b[0m \u001b[1m0s\u001b[0m 3ms/step - accuracy: 0.5434 - loss: 0.6885 - val_accuracy: 0.5597 - val_loss: 0.6843\n",
      "Epoch 6/90\n",
      "\u001b[1m54/54\u001b[0m \u001b[32m━━━━━━━━━━━━━━━━━━━━\u001b[0m\u001b[37m\u001b[0m \u001b[1m0s\u001b[0m 3ms/step - accuracy: 0.5876 - loss: 0.6771 - val_accuracy: 0.5738 - val_loss: 0.6745\n",
      "Epoch 7/90\n",
      "\u001b[1m54/54\u001b[0m \u001b[32m━━━━━━━━━━━━━━━━━━━━\u001b[0m\u001b[37m\u001b[0m \u001b[1m0s\u001b[0m 3ms/step - accuracy: 0.6191 - loss: 0.6662 - val_accuracy: 0.6019 - val_loss: 0.6649\n",
      "Epoch 8/90\n",
      "\u001b[1m54/54\u001b[0m \u001b[32m━━━━━━━━━━━━━━━━━━━━\u001b[0m\u001b[37m\u001b[0m \u001b[1m0s\u001b[0m 3ms/step - accuracy: 0.6528 - loss: 0.6557 - val_accuracy: 0.6370 - val_loss: 0.6557\n",
      "Epoch 9/90\n",
      "\u001b[1m54/54\u001b[0m \u001b[32m━━━━━━━━━━━━━━━━━━━━\u001b[0m\u001b[37m\u001b[0m \u001b[1m0s\u001b[0m 3ms/step - accuracy: 0.6787 - loss: 0.6455 - val_accuracy: 0.6651 - val_loss: 0.6467\n",
      "Epoch 10/90\n",
      "\u001b[1m54/54\u001b[0m \u001b[32m━━━━━━━━━━━━━━━━━━━━\u001b[0m\u001b[37m\u001b[0m \u001b[1m0s\u001b[0m 3ms/step - accuracy: 0.6960 - loss: 0.6357 - val_accuracy: 0.6862 - val_loss: 0.6380\n",
      "Epoch 11/90\n",
      "\u001b[1m54/54\u001b[0m \u001b[32m━━━━━━━━━━━━━━━━━━━━\u001b[0m\u001b[37m\u001b[0m \u001b[1m0s\u001b[0m 3ms/step - accuracy: 0.7252 - loss: 0.6261 - val_accuracy: 0.7073 - val_loss: 0.6295\n",
      "Epoch 12/90\n",
      "\u001b[1m54/54\u001b[0m \u001b[32m━━━━━━━━━━━━━━━━━━━━\u001b[0m\u001b[37m\u001b[0m \u001b[1m0s\u001b[0m 2ms/step - accuracy: 0.7511 - loss: 0.6169 - val_accuracy: 0.7307 - val_loss: 0.6213\n",
      "Epoch 13/90\n",
      "\u001b[1m54/54\u001b[0m \u001b[32m━━━━━━━━━━━━━━━━━━━━\u001b[0m\u001b[37m\u001b[0m \u001b[1m0s\u001b[0m 3ms/step - accuracy: 0.7614 - loss: 0.6080 - val_accuracy: 0.7377 - val_loss: 0.6133\n",
      "Epoch 14/90\n",
      "\u001b[1m54/54\u001b[0m \u001b[32m━━━━━━━━━━━━━━━━━━━━\u001b[0m\u001b[37m\u001b[0m \u001b[1m0s\u001b[0m 3ms/step - accuracy: 0.7722 - loss: 0.5994 - val_accuracy: 0.7541 - val_loss: 0.6056\n",
      "Epoch 15/90\n",
      "\u001b[1m54/54\u001b[0m \u001b[32m━━━━━━━━━━━━━━━━━━━━\u001b[0m\u001b[37m\u001b[0m \u001b[1m0s\u001b[0m 3ms/step - accuracy: 0.7774 - loss: 0.5910 - val_accuracy: 0.7588 - val_loss: 0.5982\n",
      "Epoch 16/90\n",
      "\u001b[1m54/54\u001b[0m \u001b[32m━━━━━━━━━━━━━━━━━━━━\u001b[0m\u001b[37m\u001b[0m \u001b[1m0s\u001b[0m 2ms/step - accuracy: 0.7843 - loss: 0.5830 - val_accuracy: 0.7611 - val_loss: 0.5909\n",
      "Epoch 17/90\n",
      "\u001b[1m54/54\u001b[0m \u001b[32m━━━━━━━━━━━━━━━━━━━━\u001b[0m\u001b[37m\u001b[0m \u001b[1m0s\u001b[0m 3ms/step - accuracy: 0.7871 - loss: 0.5755 - val_accuracy: 0.7681 - val_loss: 0.5839\n",
      "Epoch 18/90\n",
      "\u001b[1m54/54\u001b[0m \u001b[32m━━━━━━━━━━━━━━━━━━━━\u001b[0m\u001b[37m\u001b[0m \u001b[1m0s\u001b[0m 2ms/step - accuracy: 0.7974 - loss: 0.5679 - val_accuracy: 0.7728 - val_loss: 0.5771\n",
      "Epoch 19/90\n",
      "\u001b[1m54/54\u001b[0m \u001b[32m━━━━━━━━━━━━━━━━━━━━\u001b[0m\u001b[37m\u001b[0m \u001b[1m0s\u001b[0m 3ms/step - accuracy: 0.7990 - loss: 0.5608 - val_accuracy: 0.7799 - val_loss: 0.5705\n",
      "Epoch 20/90\n",
      "\u001b[1m54/54\u001b[0m \u001b[32m━━━━━━━━━━━━━━━━━━━━\u001b[0m\u001b[37m\u001b[0m \u001b[1m0s\u001b[0m 2ms/step - accuracy: 0.8022 - loss: 0.5539 - val_accuracy: 0.7799 - val_loss: 0.5641\n",
      "Epoch 21/90\n",
      "\u001b[1m54/54\u001b[0m \u001b[32m━━━━━━━━━━━━━━━━━━━━\u001b[0m\u001b[37m\u001b[0m \u001b[1m0s\u001b[0m 2ms/step - accuracy: 0.8060 - loss: 0.5472 - val_accuracy: 0.7845 - val_loss: 0.5579\n",
      "Epoch 22/90\n",
      "\u001b[1m54/54\u001b[0m \u001b[32m━━━━━━━━━━━━━━━━━━━━\u001b[0m\u001b[37m\u001b[0m \u001b[1m0s\u001b[0m 3ms/step - accuracy: 0.8102 - loss: 0.5411 - val_accuracy: 0.7892 - val_loss: 0.5520\n",
      "Epoch 23/90\n",
      "\u001b[1m54/54\u001b[0m \u001b[32m━━━━━━━━━━━━━━━━━━━━\u001b[0m\u001b[37m\u001b[0m \u001b[1m0s\u001b[0m 3ms/step - accuracy: 0.8135 - loss: 0.5341 - val_accuracy: 0.7963 - val_loss: 0.5462\n",
      "Epoch 24/90\n",
      "\u001b[1m54/54\u001b[0m \u001b[32m━━━━━━━━━━━━━━━━━━━━\u001b[0m\u001b[37m\u001b[0m \u001b[1m0s\u001b[0m 3ms/step - accuracy: 0.8145 - loss: 0.5288 - val_accuracy: 0.7963 - val_loss: 0.5406\n",
      "Epoch 25/90\n",
      "\u001b[1m54/54\u001b[0m \u001b[32m━━━━━━━━━━━━━━━━━━━━\u001b[0m\u001b[37m\u001b[0m \u001b[1m0s\u001b[0m 3ms/step - accuracy: 0.8155 - loss: 0.5233 - val_accuracy: 0.7963 - val_loss: 0.5353\n",
      "Epoch 26/90\n",
      "\u001b[1m54/54\u001b[0m \u001b[32m━━━━━━━━━━━━━━━━━━━━\u001b[0m\u001b[37m\u001b[0m \u001b[1m0s\u001b[0m 2ms/step - accuracy: 0.8177 - loss: 0.5174 - val_accuracy: 0.7963 - val_loss: 0.5301\n",
      "Epoch 27/90\n",
      "\u001b[1m54/54\u001b[0m \u001b[32m━━━━━━━━━━━━━━━━━━━━\u001b[0m\u001b[37m\u001b[0m \u001b[1m0s\u001b[0m 2ms/step - accuracy: 0.8146 - loss: 0.5121 - val_accuracy: 0.7963 - val_loss: 0.5250\n",
      "Epoch 28/90\n",
      "\u001b[1m54/54\u001b[0m \u001b[32m━━━━━━━━━━━━━━━━━━━━\u001b[0m\u001b[37m\u001b[0m \u001b[1m0s\u001b[0m 3ms/step - accuracy: 0.8143 - loss: 0.5070 - val_accuracy: 0.7963 - val_loss: 0.5202\n",
      "Epoch 29/90\n",
      "\u001b[1m54/54\u001b[0m \u001b[32m━━━━━━━━━━━━━━━━━━━━\u001b[0m\u001b[37m\u001b[0m \u001b[1m0s\u001b[0m 3ms/step - accuracy: 0.8173 - loss: 0.5020 - val_accuracy: 0.7963 - val_loss: 0.5156\n",
      "Epoch 30/90\n",
      "\u001b[1m54/54\u001b[0m \u001b[32m━━━━━━━━━━━━━━━━━━━━\u001b[0m\u001b[37m\u001b[0m \u001b[1m0s\u001b[0m 3ms/step - accuracy: 0.8182 - loss: 0.4967 - val_accuracy: 0.8009 - val_loss: 0.5111\n",
      "Epoch 31/90\n",
      "\u001b[1m54/54\u001b[0m \u001b[32m━━━━━━━━━━━━━━━━━━━━\u001b[0m\u001b[37m\u001b[0m \u001b[1m0s\u001b[0m 4ms/step - accuracy: 0.8179 - loss: 0.4928 - val_accuracy: 0.8033 - val_loss: 0.5068\n",
      "Epoch 32/90\n",
      "\u001b[1m54/54\u001b[0m \u001b[32m━━━━━━━━━━━━━━━━━━━━\u001b[0m\u001b[37m\u001b[0m \u001b[1m0s\u001b[0m 3ms/step - accuracy: 0.8211 - loss: 0.4876 - val_accuracy: 0.8056 - val_loss: 0.5027\n",
      "Epoch 33/90\n",
      "\u001b[1m54/54\u001b[0m \u001b[32m━━━━━━━━━━━━━━━━━━━━\u001b[0m\u001b[37m\u001b[0m \u001b[1m0s\u001b[0m 2ms/step - accuracy: 0.8174 - loss: 0.4846 - val_accuracy: 0.8080 - val_loss: 0.4988\n",
      "Epoch 34/90\n",
      "\u001b[1m54/54\u001b[0m \u001b[32m━━━━━━━━━━━━━━━━━━━━\u001b[0m\u001b[37m\u001b[0m \u001b[1m0s\u001b[0m 3ms/step - accuracy: 0.8161 - loss: 0.4797 - val_accuracy: 0.8080 - val_loss: 0.4950\n",
      "Epoch 35/90\n",
      "\u001b[1m54/54\u001b[0m \u001b[32m━━━━━━━━━━━━━━━━━━━━\u001b[0m\u001b[37m\u001b[0m \u001b[1m0s\u001b[0m 2ms/step - accuracy: 0.8178 - loss: 0.4765 - val_accuracy: 0.8103 - val_loss: 0.4914\n",
      "Epoch 36/90\n",
      "\u001b[1m54/54\u001b[0m \u001b[32m━━━━━━━━━━━━━━━━━━━━\u001b[0m\u001b[37m\u001b[0m \u001b[1m0s\u001b[0m 2ms/step - accuracy: 0.8159 - loss: 0.4729 - val_accuracy: 0.8080 - val_loss: 0.4880\n",
      "Epoch 37/90\n",
      "\u001b[1m54/54\u001b[0m \u001b[32m━━━━━━━━━━━━━━━━━━━━\u001b[0m\u001b[37m\u001b[0m \u001b[1m0s\u001b[0m 2ms/step - accuracy: 0.8168 - loss: 0.4697 - val_accuracy: 0.8056 - val_loss: 0.4846\n",
      "Epoch 38/90\n",
      "\u001b[1m54/54\u001b[0m \u001b[32m━━━━━━━━━━━━━━━━━━━━\u001b[0m\u001b[37m\u001b[0m \u001b[1m0s\u001b[0m 3ms/step - accuracy: 0.8164 - loss: 0.4662 - val_accuracy: 0.8056 - val_loss: 0.4815\n",
      "Epoch 39/90\n",
      "\u001b[1m54/54\u001b[0m \u001b[32m━━━━━━━━━━━━━━━━━━━━\u001b[0m\u001b[37m\u001b[0m \u001b[1m0s\u001b[0m 2ms/step - accuracy: 0.8171 - loss: 0.4629 - val_accuracy: 0.8103 - val_loss: 0.4784\n",
      "Epoch 40/90\n",
      "\u001b[1m54/54\u001b[0m \u001b[32m━━━━━━━━━━━━━━━━━━━━\u001b[0m\u001b[37m\u001b[0m \u001b[1m0s\u001b[0m 2ms/step - accuracy: 0.8181 - loss: 0.4604 - val_accuracy: 0.8103 - val_loss: 0.4755\n",
      "Epoch 41/90\n",
      "\u001b[1m54/54\u001b[0m \u001b[32m━━━━━━━━━━━━━━━━━━━━\u001b[0m\u001b[37m\u001b[0m \u001b[1m0s\u001b[0m 2ms/step - accuracy: 0.8179 - loss: 0.4571 - val_accuracy: 0.8103 - val_loss: 0.4727\n",
      "Epoch 42/90\n",
      "\u001b[1m54/54\u001b[0m \u001b[32m━━━━━━━━━━━━━━━━━━━━\u001b[0m\u001b[37m\u001b[0m \u001b[1m0s\u001b[0m 2ms/step - accuracy: 0.8195 - loss: 0.4547 - val_accuracy: 0.8103 - val_loss: 0.4701\n",
      "Epoch 43/90\n",
      "\u001b[1m54/54\u001b[0m \u001b[32m━━━━━━━━━━━━━━━━━━━━\u001b[0m\u001b[37m\u001b[0m \u001b[1m0s\u001b[0m 2ms/step - accuracy: 0.8215 - loss: 0.4518 - val_accuracy: 0.8103 - val_loss: 0.4675\n",
      "Epoch 44/90\n",
      "\u001b[1m54/54\u001b[0m \u001b[32m━━━━━━━━━━━━━━━━━━━━\u001b[0m\u001b[37m\u001b[0m \u001b[1m0s\u001b[0m 2ms/step - accuracy: 0.8215 - loss: 0.4493 - val_accuracy: 0.8103 - val_loss: 0.4651\n",
      "Epoch 45/90\n",
      "\u001b[1m54/54\u001b[0m \u001b[32m━━━━━━━━━━━━━━━━━━━━\u001b[0m\u001b[37m\u001b[0m \u001b[1m0s\u001b[0m 2ms/step - accuracy: 0.8222 - loss: 0.4470 - val_accuracy: 0.8150 - val_loss: 0.4628\n",
      "Epoch 46/90\n",
      "\u001b[1m54/54\u001b[0m \u001b[32m━━━━━━━━━━━━━━━━━━━━\u001b[0m\u001b[37m\u001b[0m \u001b[1m0s\u001b[0m 2ms/step - accuracy: 0.8222 - loss: 0.4447 - val_accuracy: 0.8150 - val_loss: 0.4606\n",
      "Epoch 47/90\n",
      "\u001b[1m54/54\u001b[0m \u001b[32m━━━━━━━━━━━━━━━━━━━━\u001b[0m\u001b[37m\u001b[0m \u001b[1m0s\u001b[0m 2ms/step - accuracy: 0.8231 - loss: 0.4426 - val_accuracy: 0.8197 - val_loss: 0.4584\n",
      "Epoch 48/90\n",
      "\u001b[1m54/54\u001b[0m \u001b[32m━━━━━━━━━━━━━━━━━━━━\u001b[0m\u001b[37m\u001b[0m \u001b[1m0s\u001b[0m 2ms/step - accuracy: 0.8244 - loss: 0.4395 - val_accuracy: 0.8197 - val_loss: 0.4564\n",
      "Epoch 49/90\n",
      "\u001b[1m54/54\u001b[0m \u001b[32m━━━━━━━━━━━━━━━━━━━━\u001b[0m\u001b[37m\u001b[0m \u001b[1m0s\u001b[0m 2ms/step - accuracy: 0.8234 - loss: 0.4386 - val_accuracy: 0.8173 - val_loss: 0.4545\n",
      "Epoch 50/90\n",
      "\u001b[1m54/54\u001b[0m \u001b[32m━━━━━━━━━━━━━━━━━━━━\u001b[0m\u001b[37m\u001b[0m \u001b[1m0s\u001b[0m 2ms/step - accuracy: 0.8234 - loss: 0.4367 - val_accuracy: 0.8173 - val_loss: 0.4527\n",
      "Epoch 51/90\n",
      "\u001b[1m54/54\u001b[0m \u001b[32m━━━━━━━━━━━━━━━━━━━━\u001b[0m\u001b[37m\u001b[0m \u001b[1m0s\u001b[0m 2ms/step - accuracy: 0.8238 - loss: 0.4349 - val_accuracy: 0.8150 - val_loss: 0.4509\n",
      "Epoch 52/90\n",
      "\u001b[1m54/54\u001b[0m \u001b[32m━━━━━━━━━━━━━━━━━━━━\u001b[0m\u001b[37m\u001b[0m \u001b[1m0s\u001b[0m 2ms/step - accuracy: 0.8246 - loss: 0.4335 - val_accuracy: 0.8173 - val_loss: 0.4492\n",
      "Epoch 53/90\n",
      "\u001b[1m54/54\u001b[0m \u001b[32m━━━━━━━━━━━━━━━━━━━━\u001b[0m\u001b[37m\u001b[0m \u001b[1m0s\u001b[0m 2ms/step - accuracy: 0.8248 - loss: 0.4315 - val_accuracy: 0.8173 - val_loss: 0.4477\n",
      "Epoch 54/90\n",
      "\u001b[1m54/54\u001b[0m \u001b[32m━━━━━━━━━━━━━━━━━━━━\u001b[0m\u001b[37m\u001b[0m \u001b[1m0s\u001b[0m 2ms/step - accuracy: 0.8246 - loss: 0.4297 - val_accuracy: 0.8173 - val_loss: 0.4462\n",
      "Epoch 55/90\n",
      "\u001b[1m54/54\u001b[0m \u001b[32m━━━━━━━━━━━━━━━━━━━━\u001b[0m\u001b[37m\u001b[0m \u001b[1m0s\u001b[0m 2ms/step - accuracy: 0.8252 - loss: 0.4285 - val_accuracy: 0.8173 - val_loss: 0.4447\n",
      "Epoch 56/90\n",
      "\u001b[1m54/54\u001b[0m \u001b[32m━━━━━━━━━━━━━━━━━━━━\u001b[0m\u001b[37m\u001b[0m \u001b[1m0s\u001b[0m 2ms/step - accuracy: 0.8259 - loss: 0.4271 - val_accuracy: 0.8173 - val_loss: 0.4434\n",
      "Epoch 57/90\n",
      "\u001b[1m54/54\u001b[0m \u001b[32m━━━━━━━━━━━━━━━━━━━━\u001b[0m\u001b[37m\u001b[0m \u001b[1m0s\u001b[0m 2ms/step - accuracy: 0.8267 - loss: 0.4257 - val_accuracy: 0.8173 - val_loss: 0.4420\n",
      "Epoch 58/90\n",
      "\u001b[1m54/54\u001b[0m \u001b[32m━━━━━━━━━━━━━━━━━━━━\u001b[0m\u001b[37m\u001b[0m \u001b[1m0s\u001b[0m 2ms/step - accuracy: 0.8269 - loss: 0.4244 - val_accuracy: 0.8173 - val_loss: 0.4408\n",
      "Epoch 59/90\n",
      "\u001b[1m54/54\u001b[0m \u001b[32m━━━━━━━━━━━━━━━━━━━━\u001b[0m\u001b[37m\u001b[0m \u001b[1m0s\u001b[0m 2ms/step - accuracy: 0.8280 - loss: 0.4232 - val_accuracy: 0.8173 - val_loss: 0.4396\n",
      "Epoch 60/90\n",
      "\u001b[1m54/54\u001b[0m \u001b[32m━━━━━━━━━━━━━━━━━━━━\u001b[0m\u001b[37m\u001b[0m \u001b[1m0s\u001b[0m 2ms/step - accuracy: 0.8280 - loss: 0.4220 - val_accuracy: 0.8173 - val_loss: 0.4384\n",
      "Epoch 61/90\n",
      "\u001b[1m54/54\u001b[0m \u001b[32m━━━━━━━━━━━━━━━━━━━━\u001b[0m\u001b[37m\u001b[0m \u001b[1m0s\u001b[0m 2ms/step - accuracy: 0.8280 - loss: 0.4208 - val_accuracy: 0.8173 - val_loss: 0.4373\n",
      "Epoch 62/90\n",
      "\u001b[1m54/54\u001b[0m \u001b[32m━━━━━━━━━━━━━━━━━━━━\u001b[0m\u001b[37m\u001b[0m \u001b[1m0s\u001b[0m 2ms/step - accuracy: 0.8280 - loss: 0.4197 - val_accuracy: 0.8150 - val_loss: 0.4363\n",
      "Epoch 63/90\n",
      "\u001b[1m54/54\u001b[0m \u001b[32m━━━━━━━━━━━━━━━━━━━━\u001b[0m\u001b[37m\u001b[0m \u001b[1m0s\u001b[0m 2ms/step - accuracy: 0.8279 - loss: 0.4187 - val_accuracy: 0.8173 - val_loss: 0.4353\n",
      "Epoch 64/90\n",
      "\u001b[1m54/54\u001b[0m \u001b[32m━━━━━━━━━━━━━━━━━━━━\u001b[0m\u001b[37m\u001b[0m \u001b[1m0s\u001b[0m 2ms/step - accuracy: 0.8277 - loss: 0.4177 - val_accuracy: 0.8173 - val_loss: 0.4343\n",
      "Epoch 65/90\n",
      "\u001b[1m54/54\u001b[0m \u001b[32m━━━━━━━━━━━━━━━━━━━━\u001b[0m\u001b[37m\u001b[0m \u001b[1m0s\u001b[0m 2ms/step - accuracy: 0.8283 - loss: 0.4167 - val_accuracy: 0.8173 - val_loss: 0.4334\n",
      "Epoch 66/90\n",
      "\u001b[1m54/54\u001b[0m \u001b[32m━━━━━━━━━━━━━━━━━━━━\u001b[0m\u001b[37m\u001b[0m \u001b[1m0s\u001b[0m 2ms/step - accuracy: 0.8276 - loss: 0.4158 - val_accuracy: 0.8173 - val_loss: 0.4325\n",
      "Epoch 67/90\n",
      "\u001b[1m54/54\u001b[0m \u001b[32m━━━━━━━━━━━━━━━━━━━━\u001b[0m\u001b[37m\u001b[0m \u001b[1m0s\u001b[0m 2ms/step - accuracy: 0.8276 - loss: 0.4149 - val_accuracy: 0.8197 - val_loss: 0.4316\n",
      "Epoch 68/90\n",
      "\u001b[1m54/54\u001b[0m \u001b[32m━━━━━━━━━━━━━━━━━━━━\u001b[0m\u001b[37m\u001b[0m \u001b[1m0s\u001b[0m 2ms/step - accuracy: 0.8267 - loss: 0.4140 - val_accuracy: 0.8197 - val_loss: 0.4308\n",
      "Epoch 69/90\n",
      "\u001b[1m54/54\u001b[0m \u001b[32m━━━━━━━━━━━━━━━━━━━━\u001b[0m\u001b[37m\u001b[0m \u001b[1m0s\u001b[0m 2ms/step - accuracy: 0.8270 - loss: 0.4132 - val_accuracy: 0.8197 - val_loss: 0.4300\n",
      "Epoch 70/90\n",
      "\u001b[1m54/54\u001b[0m \u001b[32m━━━━━━━━━━━━━━━━━━━━\u001b[0m\u001b[37m\u001b[0m \u001b[1m0s\u001b[0m 2ms/step - accuracy: 0.8271 - loss: 0.4124 - val_accuracy: 0.8197 - val_loss: 0.4293\n",
      "Epoch 71/90\n",
      "\u001b[1m54/54\u001b[0m \u001b[32m━━━━━━━━━━━━━━━━━━━━\u001b[0m\u001b[37m\u001b[0m \u001b[1m0s\u001b[0m 2ms/step - accuracy: 0.8269 - loss: 0.4117 - val_accuracy: 0.8197 - val_loss: 0.4286\n",
      "Epoch 72/90\n",
      "\u001b[1m54/54\u001b[0m \u001b[32m━━━━━━━━━━━━━━━━━━━━\u001b[0m\u001b[37m\u001b[0m \u001b[1m0s\u001b[0m 2ms/step - accuracy: 0.8268 - loss: 0.4109 - val_accuracy: 0.8197 - val_loss: 0.4279\n",
      "Epoch 73/90\n",
      "\u001b[1m54/54\u001b[0m \u001b[32m━━━━━━━━━━━━━━━━━━━━\u001b[0m\u001b[37m\u001b[0m \u001b[1m0s\u001b[0m 2ms/step - accuracy: 0.8260 - loss: 0.4104 - val_accuracy: 0.8197 - val_loss: 0.4272\n",
      "Epoch 74/90\n",
      "\u001b[1m54/54\u001b[0m \u001b[32m━━━━━━━━━━━━━━━━━━━━\u001b[0m\u001b[37m\u001b[0m \u001b[1m0s\u001b[0m 2ms/step - accuracy: 0.8269 - loss: 0.4096 - val_accuracy: 0.8197 - val_loss: 0.4266\n",
      "Epoch 75/90\n",
      "\u001b[1m54/54\u001b[0m \u001b[32m━━━━━━━━━━━━━━━━━━━━\u001b[0m\u001b[37m\u001b[0m \u001b[1m0s\u001b[0m 2ms/step - accuracy: 0.8281 - loss: 0.4094 - val_accuracy: 0.8197 - val_loss: 0.4260\n",
      "Epoch 76/90\n",
      "\u001b[1m54/54\u001b[0m \u001b[32m━━━━━━━━━━━━━━━━━━━━\u001b[0m\u001b[37m\u001b[0m \u001b[1m0s\u001b[0m 2ms/step - accuracy: 0.8274 - loss: 0.4080 - val_accuracy: 0.8197 - val_loss: 0.4254\n",
      "Epoch 77/90\n",
      "\u001b[1m54/54\u001b[0m \u001b[32m━━━━━━━━━━━━━━━━━━━━\u001b[0m\u001b[37m\u001b[0m \u001b[1m0s\u001b[0m 2ms/step - accuracy: 0.8276 - loss: 0.4077 - val_accuracy: 0.8197 - val_loss: 0.4249\n",
      "Epoch 78/90\n",
      "\u001b[1m54/54\u001b[0m \u001b[32m━━━━━━━━━━━━━━━━━━━━\u001b[0m\u001b[37m\u001b[0m \u001b[1m0s\u001b[0m 2ms/step - accuracy: 0.8276 - loss: 0.4071 - val_accuracy: 0.8197 - val_loss: 0.4243\n",
      "Epoch 79/90\n",
      "\u001b[1m54/54\u001b[0m \u001b[32m━━━━━━━━━━━━━━━━━━━━\u001b[0m\u001b[37m\u001b[0m \u001b[1m0s\u001b[0m 2ms/step - accuracy: 0.8276 - loss: 0.4065 - val_accuracy: 0.8197 - val_loss: 0.4238\n",
      "Epoch 80/90\n",
      "\u001b[1m54/54\u001b[0m \u001b[32m━━━━━━━━━━━━━━━━━━━━\u001b[0m\u001b[37m\u001b[0m \u001b[1m0s\u001b[0m 2ms/step - accuracy: 0.8276 - loss: 0.4060 - val_accuracy: 0.8197 - val_loss: 0.4233\n",
      "Epoch 81/90\n",
      "\u001b[1m54/54\u001b[0m \u001b[32m━━━━━━━━━━━━━━━━━━━━\u001b[0m\u001b[37m\u001b[0m \u001b[1m0s\u001b[0m 2ms/step - accuracy: 0.8276 - loss: 0.4054 - val_accuracy: 0.8197 - val_loss: 0.4228\n",
      "Epoch 82/90\n",
      "\u001b[1m54/54\u001b[0m \u001b[32m━━━━━━━━━━━━━━━━━━━━\u001b[0m\u001b[37m\u001b[0m \u001b[1m0s\u001b[0m 2ms/step - accuracy: 0.8294 - loss: 0.4049 - val_accuracy: 0.8197 - val_loss: 0.4223\n",
      "Epoch 83/90\n",
      "\u001b[1m54/54\u001b[0m \u001b[32m━━━━━━━━━━━━━━━━━━━━\u001b[0m\u001b[37m\u001b[0m \u001b[1m0s\u001b[0m 2ms/step - accuracy: 0.8294 - loss: 0.4044 - val_accuracy: 0.8173 - val_loss: 0.4219\n",
      "Epoch 84/90\n",
      "\u001b[1m54/54\u001b[0m \u001b[32m━━━━━━━━━━━━━━━━━━━━\u001b[0m\u001b[37m\u001b[0m \u001b[1m0s\u001b[0m 2ms/step - accuracy: 0.8295 - loss: 0.4039 - val_accuracy: 0.8197 - val_loss: 0.4214\n",
      "Epoch 85/90\n",
      "\u001b[1m54/54\u001b[0m \u001b[32m━━━━━━━━━━━━━━━━━━━━\u001b[0m\u001b[37m\u001b[0m \u001b[1m0s\u001b[0m 2ms/step - accuracy: 0.8297 - loss: 0.4035 - val_accuracy: 0.8197 - val_loss: 0.4210\n",
      "Epoch 86/90\n",
      "\u001b[1m54/54\u001b[0m \u001b[32m━━━━━━━━━━━━━━━━━━━━\u001b[0m\u001b[37m\u001b[0m \u001b[1m0s\u001b[0m 2ms/step - accuracy: 0.8297 - loss: 0.4030 - val_accuracy: 0.8197 - val_loss: 0.4206\n",
      "Epoch 87/90\n",
      "\u001b[1m54/54\u001b[0m \u001b[32m━━━━━━━━━━━━━━━━━━━━\u001b[0m\u001b[37m\u001b[0m \u001b[1m0s\u001b[0m 2ms/step - accuracy: 0.8290 - loss: 0.4026 - val_accuracy: 0.8197 - val_loss: 0.4202\n",
      "Epoch 88/90\n",
      "\u001b[1m54/54\u001b[0m \u001b[32m━━━━━━━━━━━━━━━━━━━━\u001b[0m\u001b[37m\u001b[0m \u001b[1m0s\u001b[0m 2ms/step - accuracy: 0.8302 - loss: 0.4021 - val_accuracy: 0.8197 - val_loss: 0.4198\n",
      "Epoch 89/90\n",
      "\u001b[1m54/54\u001b[0m \u001b[32m━━━━━━━━━━━━━━━━━━━━\u001b[0m\u001b[37m\u001b[0m \u001b[1m0s\u001b[0m 2ms/step - accuracy: 0.8302 - loss: 0.4017 - val_accuracy: 0.8197 - val_loss: 0.4195\n",
      "Epoch 90/90\n",
      "\u001b[1m54/54\u001b[0m \u001b[32m━━━━━━━━━━━━━━━━━━━━\u001b[0m\u001b[37m\u001b[0m \u001b[1m0s\u001b[0m 2ms/step - accuracy: 0.8302 - loss: 0.4013 - val_accuracy: 0.8197 - val_loss: 0.4191\n",
      "\u001b[1m17/17\u001b[0m \u001b[32m━━━━━━━━━━━━━━━━━━━━\u001b[0m\u001b[37m\u001b[0m \u001b[1m0s\u001b[0m 1ms/step - accuracy: 0.8194 - loss: 0.4289\n",
      "Test Accuracy: 0.8146\n",
      "\u001b[1m17/17\u001b[0m \u001b[32m━━━━━━━━━━━━━━━━━━━━\u001b[0m\u001b[37m\u001b[0m \u001b[1m0s\u001b[0m 3ms/step \n"
     ]
    }
   ],
   "source": [
    "history = model.fit(X_train, y_train, epochs=90, validation_split=0.2, verbose=1)\n",
    "\n",
    "# Evaluate the model on the test set\n",
    "test_loss, test_accuracy = model.evaluate(X_test, y_test, verbose=1)\n",
    "print(f\"Test Accuracy: {test_accuracy:.4f}\")\n",
    "\n",
    "# Predict on the test set\n",
    "y_pred = (model.predict(X_test) > 0.5).astype(\"int32\")"
   ]
  },
  {
   "cell_type": "code",
   "execution_count": 574,
   "id": "10500fb7-018c-4f8b-b644-e1b232768f69",
   "metadata": {},
   "outputs": [
    {
     "name": "stdout",
     "output_type": "stream",
     "text": [
      "\u001b[1m17/17\u001b[0m \u001b[32m━━━━━━━━━━━━━━━━━━━━\u001b[0m\u001b[37m\u001b[0m \u001b[1m0s\u001b[0m 1ms/step \n",
      "Accuracy: 0.8146067415730337\n",
      "Precision: 0.815721444858709\n",
      "FAR: 0.19148936170212766\n",
      "FRR: 0.1806020066889632\n"
     ]
    },
    {
     "data": {
      "image/png": "[encoded data removed]",
      "text/plain": [
       "<Figure size 640x480 with 2 Axes>"
      ]
     },
     "metadata": {},
     "output_type": "display_data"
    }
   ],
   "source": [
    "\n",
    "from sklearn.metrics import accuracy_score, precision_score, recall_score, f1_score, confusion_matrix, ConfusionMatrixDisplay\n",
    "import matplotlib.pyplot as plt\n",
    "y_pred = (model.predict(X_test) > 0.5).astype(\"int32\")\n",
    "\n",
    "# Calculate evaluation metrics\n",
    "accuracy = accuracy_score(y_test, y_pred)\n",
    "precision = precision_score(y_test, y_pred, average='weighted')  # weighted for multiclass\n",
    "recall = recall_score(y_test, y_pred, average='weighted')\n",
    "f1 = f1_score(y_test, y_pred, average='weighted')\n",
    "cm = confusion_matrix(y_test, y_pred)\n",
    "far = cm[0][1]/(cm[0][0]+cm[0][1])\n",
    "frr = cm[1][0]/(cm[1][0]+cm[1][1])\n",
    "print(f\"Accuracy: {accuracy}\")\n",
    "print(f\"Precision: {precision}\")\n",
    "print(f\"FAR: {far}\")\n",
    "print(f\"FRR: {frr}\")\n",
    "\n",
    "# Step 4: Visualize the results with a confusion matrix\n",
    "\n",
    "disp = ConfusionMatrixDisplay(confusion_matrix=cm)\n",
    "disp.plot(cmap=plt.cm.Blues)\n",
    "plt.title(\"Confusion Matrix LSTM\")\n",
    "plt.show()"
   ]
  },
  {
   "cell_type": "code",
   "execution_count": 575,
   "id": "c077adcb-ab5d-4aca-896c-2d82db26a442",
   "metadata": {},
   "outputs": [
    {
     "data": {
      "text/plain": [
       "np.int64(190)"
      ]
     },
     "execution_count": 575,
     "metadata": {},
     "output_type": "execute_result"
    }
   ],
   "source": [
    "cm[0][0]"
   ]
  },
  {
   "cell_type": "code",
   "execution_count": null,
   "id": "211c3f6d-84bf-425b-b404-8023476db1fb",
   "metadata": {},
   "outputs": [],
   "source": []
  }
 ],
 "metadata": {
  "kernelspec": {
   "display_name": "vad",
   "language": "python",
   "name": "vad"
  },
  "language_info": {
   "codemirror_mode": {
    "name": "ipython",
    "version": 3
   },
   "file_extension": ".py",
   "mimetype": "text/x-python",
   "name": "python",
   "nbconvert_exporter": "python",
   "pygments_lexer": "ipython3",
   "version": "3.10.5"
  }
 },
 "nbformat": 4,
 "nbformat_minor": 5
}
